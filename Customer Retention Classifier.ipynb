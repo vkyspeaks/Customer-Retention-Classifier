{
 "cells": [
  {
   "cell_type": "code",
   "execution_count": 1,
   "metadata": {},
   "outputs": [
    {
     "name": "stderr",
     "output_type": "stream",
     "text": [
      "/Users/VKY/anaconda/lib/python3.6/site-packages/sklearn/cross_validation.py:44: DeprecationWarning: This module was deprecated in version 0.18 in favor of the model_selection module into which all the refactored classes and functions are moved. Also note that the interface of the new CV iterators are different from that of this module. This module will be removed in 0.20.\n",
      "  \"This module will be removed in 0.20.\", DeprecationWarning)\n",
      "/Users/VKY/anaconda/lib/python3.6/site-packages/sklearn/grid_search.py:43: DeprecationWarning: This module was deprecated in version 0.18 in favor of the model_selection module into which all the refactored classes and functions are moved. This module will be removed in 0.20.\n",
      "  DeprecationWarning)\n"
     ]
    },
    {
     "name": "stdout",
     "output_type": "stream",
     "text": [
      "Populating the interactive namespace from numpy and matplotlib\n"
     ]
    }
   ],
   "source": [
    "# Importing the Data Analysing, Data Visualizing, Data Preppping & Model Building Libraries\n",
    "import pandas as pd\n",
    "import seaborn as sns\n",
    "import matplotlib.pyplot as plt\n",
    "from sklearn.preprocessing import StandardScaler\n",
    "from sklearn.grid_search import GridSearchCV\n",
    "from sklearn.grid_search import RandomizedSearchCV\n",
    "from sklearn.ensemble import RandomForestRegressor\n",
    "from sklearn.ensemble import RandomForestClassifier\n",
    "from sklearn.metrics import roc_auc_score\n",
    "from sklearn.metrics import roc_curve\n",
    "from twilio.rest import TwilioRestClient\n",
    "%pylab inline"
   ]
  },
  {
   "cell_type": "markdown",
   "metadata": {},
   "source": [
    "### Acquiring the Data"
   ]
  },
  {
   "cell_type": "markdown",
   "metadata": {},
   "source": [
    "- We have a training dataset of 160000 observations and 51 features inclusing the Target variable\n",
    "- We have a testing dataset of 40000 observations and 50 features"
   ]
  },
  {
   "cell_type": "code",
   "execution_count": 2,
   "metadata": {
    "collapsed": true
   },
   "outputs": [],
   "source": [
    "# Loading the training and testing datasets into DataFrames\n",
    "train_df = pd.read_csv(\"midterm_train.csv\")\n",
    "test_df = pd.read_csv(\"midterm_test.csv\")"
   ]
  },
  {
   "cell_type": "code",
   "execution_count": 3,
   "metadata": {},
   "outputs": [
    {
     "data": {
      "text/plain": [
       "pandas.core.frame.DataFrame"
      ]
     },
     "execution_count": 3,
     "metadata": {},
     "output_type": "execute_result"
    }
   ],
   "source": [
    "# Checking the type of training dataframe\n",
    "type(train_df)"
   ]
  },
  {
   "cell_type": "code",
   "execution_count": 4,
   "metadata": {},
   "outputs": [
    {
     "data": {
      "text/plain": [
       "pandas.core.frame.DataFrame"
      ]
     },
     "execution_count": 4,
     "metadata": {},
     "output_type": "execute_result"
    }
   ],
   "source": [
    "# Checking the type of testing dataset\n",
    "type(test_df)"
   ]
  },
  {
   "cell_type": "code",
   "execution_count": 5,
   "metadata": {
    "collapsed": true
   },
   "outputs": [],
   "source": [
    "# Creating combined list of both datasets\n",
    "combined = [train_df, test_df]"
   ]
  },
  {
   "cell_type": "markdown",
   "metadata": {},
   "source": [
    "### Analysing the Data"
   ]
  },
  {
   "cell_type": "code",
   "execution_count": 6,
   "metadata": {},
   "outputs": [
    {
     "data": {
      "text/html": [
       "<div>\n",
       "<table border=\"1\" class=\"dataframe\">\n",
       "  <thead>\n",
       "    <tr style=\"text-align: right;\">\n",
       "      <th></th>\n",
       "      <th>x0</th>\n",
       "      <th>x1</th>\n",
       "      <th>x2</th>\n",
       "      <th>x3</th>\n",
       "      <th>x4</th>\n",
       "      <th>x5</th>\n",
       "      <th>x6</th>\n",
       "      <th>x7</th>\n",
       "      <th>x8</th>\n",
       "      <th>x9</th>\n",
       "      <th>...</th>\n",
       "      <th>x41</th>\n",
       "      <th>x42</th>\n",
       "      <th>x43</th>\n",
       "      <th>x44</th>\n",
       "      <th>x45</th>\n",
       "      <th>x46</th>\n",
       "      <th>x47</th>\n",
       "      <th>x48</th>\n",
       "      <th>x49</th>\n",
       "      <th>y</th>\n",
       "    </tr>\n",
       "  </thead>\n",
       "  <tbody>\n",
       "    <tr>\n",
       "      <th>0</th>\n",
       "      <td>-5.900707</td>\n",
       "      <td>0.469389</td>\n",
       "      <td>4.733068</td>\n",
       "      <td>9.223027</td>\n",
       "      <td>3.170787</td>\n",
       "      <td>0.024669</td>\n",
       "      <td>-2.055880</td>\n",
       "      <td>-2.045466</td>\n",
       "      <td>3.004170</td>\n",
       "      <td>0.02%</td>\n",
       "      <td>...</td>\n",
       "      <td>-3.694592</td>\n",
       "      <td>-1.008670</td>\n",
       "      <td>wednesday</td>\n",
       "      <td>$-180.16</td>\n",
       "      <td>1.236134</td>\n",
       "      <td>4.462951</td>\n",
       "      <td>4.592803</td>\n",
       "      <td>-0.034478</td>\n",
       "      <td>3.680401</td>\n",
       "      <td>0</td>\n",
       "    </tr>\n",
       "    <tr>\n",
       "      <th>1</th>\n",
       "      <td>-3.530391</td>\n",
       "      <td>4.229818</td>\n",
       "      <td>-4.619433</td>\n",
       "      <td>2.154913</td>\n",
       "      <td>5.619903</td>\n",
       "      <td>-1.955667</td>\n",
       "      <td>7.713001</td>\n",
       "      <td>-1.279395</td>\n",
       "      <td>14.941269</td>\n",
       "      <td>0.0%</td>\n",
       "      <td>...</td>\n",
       "      <td>6.414948</td>\n",
       "      <td>5.831287</td>\n",
       "      <td>tuesday</td>\n",
       "      <td>$432.31</td>\n",
       "      <td>-6.570015</td>\n",
       "      <td>-5.308026</td>\n",
       "      <td>-5.462467</td>\n",
       "      <td>-0.229518</td>\n",
       "      <td>-2.332947</td>\n",
       "      <td>1</td>\n",
       "    </tr>\n",
       "    <tr>\n",
       "      <th>2</th>\n",
       "      <td>1.003389</td>\n",
       "      <td>-0.012547</td>\n",
       "      <td>6.250503</td>\n",
       "      <td>3.368675</td>\n",
       "      <td>1.711321</td>\n",
       "      <td>6.192718</td>\n",
       "      <td>4.166159</td>\n",
       "      <td>-0.363055</td>\n",
       "      <td>15.175681</td>\n",
       "      <td>-0.01%</td>\n",
       "      <td>...</td>\n",
       "      <td>0.371862</td>\n",
       "      <td>-7.025987</td>\n",
       "      <td>wednesday</td>\n",
       "      <td>$-119.17</td>\n",
       "      <td>-66.851394</td>\n",
       "      <td>-11.084558</td>\n",
       "      <td>-11.407072</td>\n",
       "      <td>6.395551</td>\n",
       "      <td>3.545332</td>\n",
       "      <td>0</td>\n",
       "    </tr>\n",
       "    <tr>\n",
       "      <th>3</th>\n",
       "      <td>-16.041769</td>\n",
       "      <td>-3.243507</td>\n",
       "      <td>-0.546649</td>\n",
       "      <td>-11.594427</td>\n",
       "      <td>5.111965</td>\n",
       "      <td>0.609785</td>\n",
       "      <td>-1.540136</td>\n",
       "      <td>-1.227567</td>\n",
       "      <td>-16.460535</td>\n",
       "      <td>-0.0%</td>\n",
       "      <td>...</td>\n",
       "      <td>-2.920478</td>\n",
       "      <td>-2.135088</td>\n",
       "      <td>thurday</td>\n",
       "      <td>$-1309.54</td>\n",
       "      <td>0.442939</td>\n",
       "      <td>11.808383</td>\n",
       "      <td>12.151957</td>\n",
       "      <td>-2.923916</td>\n",
       "      <td>-1.471336</td>\n",
       "      <td>0</td>\n",
       "    </tr>\n",
       "    <tr>\n",
       "      <th>4</th>\n",
       "      <td>20.498575</td>\n",
       "      <td>10.766191</td>\n",
       "      <td>1.478032</td>\n",
       "      <td>-5.723594</td>\n",
       "      <td>-0.768839</td>\n",
       "      <td>-3.482515</td>\n",
       "      <td>-11.169389</td>\n",
       "      <td>-0.361478</td>\n",
       "      <td>2.194909</td>\n",
       "      <td>-0.02%</td>\n",
       "      <td>...</td>\n",
       "      <td>-1.769904</td>\n",
       "      <td>-0.532896</td>\n",
       "      <td>wednesday</td>\n",
       "      <td>$-1103.32</td>\n",
       "      <td>61.136654</td>\n",
       "      <td>48.077895</td>\n",
       "      <td>49.476758</td>\n",
       "      <td>1.043061</td>\n",
       "      <td>9.927952</td>\n",
       "      <td>1</td>\n",
       "    </tr>\n",
       "  </tbody>\n",
       "</table>\n",
       "<p>5 rows × 51 columns</p>\n",
       "</div>"
      ],
      "text/plain": [
       "          x0         x1        x2         x3        x4        x5         x6  \\\n",
       "0  -5.900707   0.469389  4.733068   9.223027  3.170787  0.024669  -2.055880   \n",
       "1  -3.530391   4.229818 -4.619433   2.154913  5.619903 -1.955667   7.713001   \n",
       "2   1.003389  -0.012547  6.250503   3.368675  1.711321  6.192718   4.166159   \n",
       "3 -16.041769  -3.243507 -0.546649 -11.594427  5.111965  0.609785  -1.540136   \n",
       "4  20.498575  10.766191  1.478032  -5.723594 -0.768839 -3.482515 -11.169389   \n",
       "\n",
       "         x7         x8      x9 ...       x41       x42        x43        x44  \\\n",
       "0 -2.045466   3.004170   0.02% ... -3.694592 -1.008670  wednesday   $-180.16   \n",
       "1 -1.279395  14.941269    0.0% ...  6.414948  5.831287    tuesday    $432.31   \n",
       "2 -0.363055  15.175681  -0.01% ...  0.371862 -7.025987  wednesday   $-119.17   \n",
       "3 -1.227567 -16.460535   -0.0% ... -2.920478 -2.135088    thurday  $-1309.54   \n",
       "4 -0.361478   2.194909  -0.02% ... -1.769904 -0.532896  wednesday  $-1103.32   \n",
       "\n",
       "         x45        x46        x47       x48       x49  y  \n",
       "0   1.236134   4.462951   4.592803 -0.034478  3.680401  0  \n",
       "1  -6.570015  -5.308026  -5.462467 -0.229518 -2.332947  1  \n",
       "2 -66.851394 -11.084558 -11.407072  6.395551  3.545332  0  \n",
       "3   0.442939  11.808383  12.151957 -2.923916 -1.471336  0  \n",
       "4  61.136654  48.077895  49.476758  1.043061  9.927952  1  \n",
       "\n",
       "[5 rows x 51 columns]"
      ]
     },
     "execution_count": 6,
     "metadata": {},
     "output_type": "execute_result"
    }
   ],
   "source": [
    "# Checking top 5 observations from the training dataframe\n",
    "train_df.head()"
   ]
  },
  {
   "cell_type": "code",
   "execution_count": 7,
   "metadata": {},
   "outputs": [
    {
     "data": {
      "text/html": [
       "<div>\n",
       "<table border=\"1\" class=\"dataframe\">\n",
       "  <thead>\n",
       "    <tr style=\"text-align: right;\">\n",
       "      <th></th>\n",
       "      <th>x0</th>\n",
       "      <th>x1</th>\n",
       "      <th>x2</th>\n",
       "      <th>x3</th>\n",
       "      <th>x4</th>\n",
       "      <th>x5</th>\n",
       "      <th>x6</th>\n",
       "      <th>x7</th>\n",
       "      <th>x8</th>\n",
       "      <th>x9</th>\n",
       "      <th>...</th>\n",
       "      <th>x40</th>\n",
       "      <th>x41</th>\n",
       "      <th>x42</th>\n",
       "      <th>x43</th>\n",
       "      <th>x44</th>\n",
       "      <th>x45</th>\n",
       "      <th>x46</th>\n",
       "      <th>x47</th>\n",
       "      <th>x48</th>\n",
       "      <th>x49</th>\n",
       "    </tr>\n",
       "  </thead>\n",
       "  <tbody>\n",
       "    <tr>\n",
       "      <th>0</th>\n",
       "      <td>13.864410</td>\n",
       "      <td>0.986217</td>\n",
       "      <td>6.835099</td>\n",
       "      <td>12.129012</td>\n",
       "      <td>1.141835</td>\n",
       "      <td>0.257978</td>\n",
       "      <td>6.119007</td>\n",
       "      <td>-0.217401</td>\n",
       "      <td>-0.913796</td>\n",
       "      <td>0.0%</td>\n",
       "      <td>...</td>\n",
       "      <td>-11.997662</td>\n",
       "      <td>-3.078159</td>\n",
       "      <td>4.129892</td>\n",
       "      <td>wednesday</td>\n",
       "      <td>$376.12</td>\n",
       "      <td>21.431275</td>\n",
       "      <td>10.409146</td>\n",
       "      <td>10.712008</td>\n",
       "      <td>4.278259</td>\n",
       "      <td>-6.113483</td>\n",
       "    </tr>\n",
       "    <tr>\n",
       "      <th>1</th>\n",
       "      <td>17.075344</td>\n",
       "      <td>-8.614119</td>\n",
       "      <td>9.730068</td>\n",
       "      <td>3.645163</td>\n",
       "      <td>18.618751</td>\n",
       "      <td>-1.134351</td>\n",
       "      <td>1.324885</td>\n",
       "      <td>2.750353</td>\n",
       "      <td>-21.323635</td>\n",
       "      <td>-0.01%</td>\n",
       "      <td>...</td>\n",
       "      <td>0.782677</td>\n",
       "      <td>4.364007</td>\n",
       "      <td>-2.506411</td>\n",
       "      <td>wednesday</td>\n",
       "      <td>$1058.58</td>\n",
       "      <td>31.912299</td>\n",
       "      <td>23.853665</td>\n",
       "      <td>24.547705</td>\n",
       "      <td>1.835443</td>\n",
       "      <td>-0.698576</td>\n",
       "    </tr>\n",
       "    <tr>\n",
       "      <th>2</th>\n",
       "      <td>-16.080927</td>\n",
       "      <td>1.490433</td>\n",
       "      <td>7.290475</td>\n",
       "      <td>12.770805</td>\n",
       "      <td>-2.401559</td>\n",
       "      <td>-0.143236</td>\n",
       "      <td>-9.110707</td>\n",
       "      <td>-0.044362</td>\n",
       "      <td>-22.508253</td>\n",
       "      <td>0.0%</td>\n",
       "      <td>...</td>\n",
       "      <td>1.447475</td>\n",
       "      <td>2.394701</td>\n",
       "      <td>-4.988773</td>\n",
       "      <td>tuesday</td>\n",
       "      <td>$388.08</td>\n",
       "      <td>24.751632</td>\n",
       "      <td>9.235573</td>\n",
       "      <td>9.504289</td>\n",
       "      <td>-4.228346</td>\n",
       "      <td>-0.363838</td>\n",
       "    </tr>\n",
       "    <tr>\n",
       "      <th>3</th>\n",
       "      <td>8.955804</td>\n",
       "      <td>-2.612907</td>\n",
       "      <td>2.740679</td>\n",
       "      <td>9.704034</td>\n",
       "      <td>-1.524375</td>\n",
       "      <td>-4.001874</td>\n",
       "      <td>3.843455</td>\n",
       "      <td>0.358459</td>\n",
       "      <td>0.900835</td>\n",
       "      <td>-0.01%</td>\n",
       "      <td>...</td>\n",
       "      <td>3.065369</td>\n",
       "      <td>-3.997100</td>\n",
       "      <td>6.548292</td>\n",
       "      <td>tuesday</td>\n",
       "      <td>$272.45</td>\n",
       "      <td>19.673348</td>\n",
       "      <td>-20.449157</td>\n",
       "      <td>-21.044141</td>\n",
       "      <td>-11.225027</td>\n",
       "      <td>9.176861</td>\n",
       "    </tr>\n",
       "    <tr>\n",
       "      <th>4</th>\n",
       "      <td>-1.243500</td>\n",
       "      <td>9.752493</td>\n",
       "      <td>-1.931690</td>\n",
       "      <td>1.224566</td>\n",
       "      <td>-18.678339</td>\n",
       "      <td>0.390264</td>\n",
       "      <td>10.615600</td>\n",
       "      <td>3.774666</td>\n",
       "      <td>-10.091425</td>\n",
       "      <td>-0.01%</td>\n",
       "      <td>...</td>\n",
       "      <td>-0.233386</td>\n",
       "      <td>4.280341</td>\n",
       "      <td>-3.315470</td>\n",
       "      <td>thurday</td>\n",
       "      <td>$-127.28</td>\n",
       "      <td>-5.184808</td>\n",
       "      <td>4.179362</td>\n",
       "      <td>4.300964</td>\n",
       "      <td>-1.475613</td>\n",
       "      <td>1.628260</td>\n",
       "    </tr>\n",
       "  </tbody>\n",
       "</table>\n",
       "<p>5 rows × 50 columns</p>\n",
       "</div>"
      ],
      "text/plain": [
       "          x0        x1        x2         x3         x4        x5         x6  \\\n",
       "0  13.864410  0.986217  6.835099  12.129012   1.141835  0.257978   6.119007   \n",
       "1  17.075344 -8.614119  9.730068   3.645163  18.618751 -1.134351   1.324885   \n",
       "2 -16.080927  1.490433  7.290475  12.770805  -2.401559 -0.143236  -9.110707   \n",
       "3   8.955804 -2.612907  2.740679   9.704034  -1.524375 -4.001874   3.843455   \n",
       "4  -1.243500  9.752493 -1.931690   1.224566 -18.678339  0.390264  10.615600   \n",
       "\n",
       "         x7         x8      x9    ...           x40       x41       x42  \\\n",
       "0 -0.217401  -0.913796    0.0%    ...    -11.997662 -3.078159  4.129892   \n",
       "1  2.750353 -21.323635  -0.01%    ...      0.782677  4.364007 -2.506411   \n",
       "2 -0.044362 -22.508253    0.0%    ...      1.447475  2.394701 -4.988773   \n",
       "3  0.358459   0.900835  -0.01%    ...      3.065369 -3.997100  6.548292   \n",
       "4  3.774666 -10.091425  -0.01%    ...     -0.233386  4.280341 -3.315470   \n",
       "\n",
       "         x43       x44        x45        x46        x47        x48       x49  \n",
       "0  wednesday   $376.12  21.431275  10.409146  10.712008   4.278259 -6.113483  \n",
       "1  wednesday  $1058.58  31.912299  23.853665  24.547705   1.835443 -0.698576  \n",
       "2    tuesday   $388.08  24.751632   9.235573   9.504289  -4.228346 -0.363838  \n",
       "3    tuesday   $272.45  19.673348 -20.449157 -21.044141 -11.225027  9.176861  \n",
       "4    thurday  $-127.28  -5.184808   4.179362   4.300964  -1.475613  1.628260  \n",
       "\n",
       "[5 rows x 50 columns]"
      ]
     },
     "execution_count": 7,
     "metadata": {},
     "output_type": "execute_result"
    }
   ],
   "source": [
    "# Checking top 5 observations from the testing dataframe\n",
    "test_df.head()"
   ]
  },
  {
   "cell_type": "code",
   "execution_count": 8,
   "metadata": {},
   "outputs": [
    {
     "data": {
      "text/plain": [
       "(160000, 51)"
      ]
     },
     "execution_count": 8,
     "metadata": {},
     "output_type": "execute_result"
    }
   ],
   "source": [
    "# Checking (Observations, Features) in the training dataframe\n",
    "train_df.shape"
   ]
  },
  {
   "cell_type": "code",
   "execution_count": 9,
   "metadata": {},
   "outputs": [
    {
     "data": {
      "text/plain": [
       "(40000, 50)"
      ]
     },
     "execution_count": 9,
     "metadata": {},
     "output_type": "execute_result"
    }
   ],
   "source": [
    "# Checking (Observations, Features) in the testing dataframe\n",
    "test_df.shape"
   ]
  },
  {
   "cell_type": "code",
   "execution_count": 10,
   "metadata": {},
   "outputs": [
    {
     "data": {
      "text/html": [
       "<div>\n",
       "<table border=\"1\" class=\"dataframe\">\n",
       "  <thead>\n",
       "    <tr style=\"text-align: right;\">\n",
       "      <th></th>\n",
       "      <th>x0</th>\n",
       "      <th>x1</th>\n",
       "      <th>x2</th>\n",
       "      <th>x3</th>\n",
       "      <th>x4</th>\n",
       "      <th>x5</th>\n",
       "      <th>x6</th>\n",
       "      <th>x7</th>\n",
       "      <th>x8</th>\n",
       "      <th>x10</th>\n",
       "      <th>...</th>\n",
       "      <th>x39</th>\n",
       "      <th>x40</th>\n",
       "      <th>x41</th>\n",
       "      <th>x42</th>\n",
       "      <th>x45</th>\n",
       "      <th>x46</th>\n",
       "      <th>x47</th>\n",
       "      <th>x48</th>\n",
       "      <th>x49</th>\n",
       "      <th>y</th>\n",
       "    </tr>\n",
       "  </thead>\n",
       "  <tbody>\n",
       "    <tr>\n",
       "      <th>count</th>\n",
       "      <td>159964.000000</td>\n",
       "      <td>159973.000000</td>\n",
       "      <td>159973.000000</td>\n",
       "      <td>159963.000000</td>\n",
       "      <td>159969.000000</td>\n",
       "      <td>159971.000000</td>\n",
       "      <td>159973.000000</td>\n",
       "      <td>159974.000000</td>\n",
       "      <td>159965.000000</td>\n",
       "      <td>159962.000000</td>\n",
       "      <td>...</td>\n",
       "      <td>159952.000000</td>\n",
       "      <td>159969.000000</td>\n",
       "      <td>159980.000000</td>\n",
       "      <td>159965.000000</td>\n",
       "      <td>159972.000000</td>\n",
       "      <td>159974.000000</td>\n",
       "      <td>159970.000000</td>\n",
       "      <td>159974.000000</td>\n",
       "      <td>159974.000000</td>\n",
       "      <td>160000.000000</td>\n",
       "    </tr>\n",
       "    <tr>\n",
       "      <th>mean</th>\n",
       "      <td>1.540669</td>\n",
       "      <td>2.020926</td>\n",
       "      <td>0.007805</td>\n",
       "      <td>2.471131</td>\n",
       "      <td>0.004914</td>\n",
       "      <td>0.100313</td>\n",
       "      <td>0.020943</td>\n",
       "      <td>0.000992</td>\n",
       "      <td>0.004064</td>\n",
       "      <td>-0.004841</td>\n",
       "      <td>...</td>\n",
       "      <td>0.019918</td>\n",
       "      <td>-0.014515</td>\n",
       "      <td>-0.004971</td>\n",
       "      <td>0.006440</td>\n",
       "      <td>0.882868</td>\n",
       "      <td>0.070251</td>\n",
       "      <td>0.072817</td>\n",
       "      <td>-0.004404</td>\n",
       "      <td>-0.004627</td>\n",
       "      <td>0.400550</td>\n",
       "    </tr>\n",
       "    <tr>\n",
       "      <th>std</th>\n",
       "      <td>16.401459</td>\n",
       "      <td>7.462316</td>\n",
       "      <td>6.806854</td>\n",
       "      <td>9.624773</td>\n",
       "      <td>6.275538</td>\n",
       "      <td>2.173207</td>\n",
       "      <td>7.753960</td>\n",
       "      <td>2.414990</td>\n",
       "      <td>9.165963</td>\n",
       "      <td>2.845066</td>\n",
       "      <td>...</td>\n",
       "      <td>6.698498</td>\n",
       "      <td>4.973109</td>\n",
       "      <td>5.428919</td>\n",
       "      <td>6.743532</td>\n",
       "      <td>23.987879</td>\n",
       "      <td>17.732750</td>\n",
       "      <td>18.248654</td>\n",
       "      <td>4.468600</td>\n",
       "      <td>3.610345</td>\n",
       "      <td>0.490011</td>\n",
       "    </tr>\n",
       "    <tr>\n",
       "      <th>min</th>\n",
       "      <td>-68.981217</td>\n",
       "      <td>-31.258618</td>\n",
       "      <td>-30.506154</td>\n",
       "      <td>-36.350492</td>\n",
       "      <td>-27.575136</td>\n",
       "      <td>-13.677304</td>\n",
       "      <td>-32.781282</td>\n",
       "      <td>-11.615171</td>\n",
       "      <td>-38.961689</td>\n",
       "      <td>-11.978764</td>\n",
       "      <td>...</td>\n",
       "      <td>-27.076148</td>\n",
       "      <td>-23.265768</td>\n",
       "      <td>-24.602106</td>\n",
       "      <td>-32.319316</td>\n",
       "      <td>-121.292948</td>\n",
       "      <td>-72.694807</td>\n",
       "      <td>-74.809917</td>\n",
       "      <td>-20.696774</td>\n",
       "      <td>-16.991354</td>\n",
       "      <td>0.000000</td>\n",
       "    </tr>\n",
       "    <tr>\n",
       "      <th>25%</th>\n",
       "      <td>-9.450919</td>\n",
       "      <td>-2.890069</td>\n",
       "      <td>-4.609020</td>\n",
       "      <td>-4.029733</td>\n",
       "      <td>-4.225946</td>\n",
       "      <td>-1.375403</td>\n",
       "      <td>-5.197125</td>\n",
       "      <td>-1.639263</td>\n",
       "      <td>-6.159416</td>\n",
       "      <td>-1.921991</td>\n",
       "      <td>...</td>\n",
       "      <td>-4.508069</td>\n",
       "      <td>-3.381291</td>\n",
       "      <td>-3.668357</td>\n",
       "      <td>-4.523615</td>\n",
       "      <td>-14.596689</td>\n",
       "      <td>-12.239755</td>\n",
       "      <td>-12.595786</td>\n",
       "      <td>-3.020220</td>\n",
       "      <td>-2.438833</td>\n",
       "      <td>0.000000</td>\n",
       "    </tr>\n",
       "    <tr>\n",
       "      <th>50%</th>\n",
       "      <td>1.841792</td>\n",
       "      <td>2.202444</td>\n",
       "      <td>0.010002</td>\n",
       "      <td>2.584225</td>\n",
       "      <td>-0.005805</td>\n",
       "      <td>0.058102</td>\n",
       "      <td>-0.017482</td>\n",
       "      <td>0.000816</td>\n",
       "      <td>0.244471</td>\n",
       "      <td>-0.001742</td>\n",
       "      <td>...</td>\n",
       "      <td>0.027664</td>\n",
       "      <td>0.001465</td>\n",
       "      <td>-0.017824</td>\n",
       "      <td>0.010728</td>\n",
       "      <td>0.890783</td>\n",
       "      <td>-0.449057</td>\n",
       "      <td>-0.462448</td>\n",
       "      <td>-0.000494</td>\n",
       "      <td>-0.001601</td>\n",
       "      <td>0.000000</td>\n",
       "    </tr>\n",
       "    <tr>\n",
       "      <th>75%</th>\n",
       "      <td>12.786656</td>\n",
       "      <td>7.002078</td>\n",
       "      <td>4.623164</td>\n",
       "      <td>9.015845</td>\n",
       "      <td>4.256802</td>\n",
       "      <td>1.550611</td>\n",
       "      <td>5.268370</td>\n",
       "      <td>1.627674</td>\n",
       "      <td>6.257305</td>\n",
       "      <td>1.918158</td>\n",
       "      <td>...</td>\n",
       "      <td>4.550137</td>\n",
       "      <td>3.344760</td>\n",
       "      <td>3.649917</td>\n",
       "      <td>4.562162</td>\n",
       "      <td>16.559588</td>\n",
       "      <td>11.987409</td>\n",
       "      <td>12.336756</td>\n",
       "      <td>3.003253</td>\n",
       "      <td>2.424888</td>\n",
       "      <td>1.000000</td>\n",
       "    </tr>\n",
       "    <tr>\n",
       "      <th>max</th>\n",
       "      <td>70.882303</td>\n",
       "      <td>39.193550</td>\n",
       "      <td>28.699898</td>\n",
       "      <td>47.313496</td>\n",
       "      <td>28.571894</td>\n",
       "      <td>10.006106</td>\n",
       "      <td>34.460095</td>\n",
       "      <td>10.794778</td>\n",
       "      <td>39.216249</td>\n",
       "      <td>13.644499</td>\n",
       "      <td>...</td>\n",
       "      <td>29.862557</td>\n",
       "      <td>23.132292</td>\n",
       "      <td>22.938242</td>\n",
       "      <td>28.980718</td>\n",
       "      <td>136.368013</td>\n",
       "      <td>77.429817</td>\n",
       "      <td>79.682696</td>\n",
       "      <td>19.217507</td>\n",
       "      <td>15.117022</td>\n",
       "      <td>1.000000</td>\n",
       "    </tr>\n",
       "  </tbody>\n",
       "</table>\n",
       "<p>8 rows × 46 columns</p>\n",
       "</div>"
      ],
      "text/plain": [
       "                  x0             x1             x2             x3  \\\n",
       "count  159964.000000  159973.000000  159973.000000  159963.000000   \n",
       "mean        1.540669       2.020926       0.007805       2.471131   \n",
       "std        16.401459       7.462316       6.806854       9.624773   \n",
       "min       -68.981217     -31.258618     -30.506154     -36.350492   \n",
       "25%        -9.450919      -2.890069      -4.609020      -4.029733   \n",
       "50%         1.841792       2.202444       0.010002       2.584225   \n",
       "75%        12.786656       7.002078       4.623164       9.015845   \n",
       "max        70.882303      39.193550      28.699898      47.313496   \n",
       "\n",
       "                  x4             x5             x6             x7  \\\n",
       "count  159969.000000  159971.000000  159973.000000  159974.000000   \n",
       "mean        0.004914       0.100313       0.020943       0.000992   \n",
       "std         6.275538       2.173207       7.753960       2.414990   \n",
       "min       -27.575136     -13.677304     -32.781282     -11.615171   \n",
       "25%        -4.225946      -1.375403      -5.197125      -1.639263   \n",
       "50%        -0.005805       0.058102      -0.017482       0.000816   \n",
       "75%         4.256802       1.550611       5.268370       1.627674   \n",
       "max        28.571894      10.006106      34.460095      10.794778   \n",
       "\n",
       "                  x8            x10      ...                  x39  \\\n",
       "count  159965.000000  159962.000000      ...        159952.000000   \n",
       "mean        0.004064      -0.004841      ...             0.019918   \n",
       "std         9.165963       2.845066      ...             6.698498   \n",
       "min       -38.961689     -11.978764      ...           -27.076148   \n",
       "25%        -6.159416      -1.921991      ...            -4.508069   \n",
       "50%         0.244471      -0.001742      ...             0.027664   \n",
       "75%         6.257305       1.918158      ...             4.550137   \n",
       "max        39.216249      13.644499      ...            29.862557   \n",
       "\n",
       "                 x40            x41            x42            x45  \\\n",
       "count  159969.000000  159980.000000  159965.000000  159972.000000   \n",
       "mean       -0.014515      -0.004971       0.006440       0.882868   \n",
       "std         4.973109       5.428919       6.743532      23.987879   \n",
       "min       -23.265768     -24.602106     -32.319316    -121.292948   \n",
       "25%        -3.381291      -3.668357      -4.523615     -14.596689   \n",
       "50%         0.001465      -0.017824       0.010728       0.890783   \n",
       "75%         3.344760       3.649917       4.562162      16.559588   \n",
       "max        23.132292      22.938242      28.980718     136.368013   \n",
       "\n",
       "                 x46            x47            x48            x49  \\\n",
       "count  159974.000000  159970.000000  159974.000000  159974.000000   \n",
       "mean        0.070251       0.072817      -0.004404      -0.004627   \n",
       "std        17.732750      18.248654       4.468600       3.610345   \n",
       "min       -72.694807     -74.809917     -20.696774     -16.991354   \n",
       "25%       -12.239755     -12.595786      -3.020220      -2.438833   \n",
       "50%        -0.449057      -0.462448      -0.000494      -0.001601   \n",
       "75%        11.987409      12.336756       3.003253       2.424888   \n",
       "max        77.429817      79.682696      19.217507      15.117022   \n",
       "\n",
       "                   y  \n",
       "count  160000.000000  \n",
       "mean        0.400550  \n",
       "std         0.490011  \n",
       "min         0.000000  \n",
       "25%         0.000000  \n",
       "50%         0.000000  \n",
       "75%         1.000000  \n",
       "max         1.000000  \n",
       "\n",
       "[8 rows x 46 columns]"
      ]
     },
     "execution_count": 10,
     "metadata": {},
     "output_type": "execute_result"
    }
   ],
   "source": [
    "# Checking basic statistics for the continous data in training dataframe\n",
    "train_df.describe()"
   ]
  },
  {
   "cell_type": "code",
   "execution_count": 11,
   "metadata": {},
   "outputs": [
    {
     "data": {
      "text/html": [
       "<div>\n",
       "<table border=\"1\" class=\"dataframe\">\n",
       "  <thead>\n",
       "    <tr style=\"text-align: right;\">\n",
       "      <th></th>\n",
       "      <th>x0</th>\n",
       "      <th>x1</th>\n",
       "      <th>x2</th>\n",
       "      <th>x3</th>\n",
       "      <th>x4</th>\n",
       "      <th>x5</th>\n",
       "      <th>x6</th>\n",
       "      <th>x7</th>\n",
       "      <th>x8</th>\n",
       "      <th>x10</th>\n",
       "      <th>...</th>\n",
       "      <th>x38</th>\n",
       "      <th>x39</th>\n",
       "      <th>x40</th>\n",
       "      <th>x41</th>\n",
       "      <th>x42</th>\n",
       "      <th>x45</th>\n",
       "      <th>x46</th>\n",
       "      <th>x47</th>\n",
       "      <th>x48</th>\n",
       "      <th>x49</th>\n",
       "    </tr>\n",
       "  </thead>\n",
       "  <tbody>\n",
       "    <tr>\n",
       "      <th>count</th>\n",
       "      <td>39991.000000</td>\n",
       "      <td>39988.000000</td>\n",
       "      <td>39995.000000</td>\n",
       "      <td>39990.000000</td>\n",
       "      <td>39995.000000</td>\n",
       "      <td>39990.000000</td>\n",
       "      <td>39992.000000</td>\n",
       "      <td>39994.000000</td>\n",
       "      <td>39990.000000</td>\n",
       "      <td>39994.000000</td>\n",
       "      <td>...</td>\n",
       "      <td>39992.000000</td>\n",
       "      <td>39995.000000</td>\n",
       "      <td>39996.000000</td>\n",
       "      <td>39992.000000</td>\n",
       "      <td>39992.000000</td>\n",
       "      <td>39992.000000</td>\n",
       "      <td>39993.000000</td>\n",
       "      <td>39993.000000</td>\n",
       "      <td>39994.000000</td>\n",
       "      <td>39993.000000</td>\n",
       "    </tr>\n",
       "    <tr>\n",
       "      <th>mean</th>\n",
       "      <td>1.663499</td>\n",
       "      <td>2.011510</td>\n",
       "      <td>-0.008737</td>\n",
       "      <td>2.581840</td>\n",
       "      <td>-0.002900</td>\n",
       "      <td>0.120855</td>\n",
       "      <td>-0.010031</td>\n",
       "      <td>-0.007377</td>\n",
       "      <td>0.040697</td>\n",
       "      <td>0.007054</td>\n",
       "      <td>...</td>\n",
       "      <td>-0.050583</td>\n",
       "      <td>0.018816</td>\n",
       "      <td>0.007086</td>\n",
       "      <td>-0.019522</td>\n",
       "      <td>0.009597</td>\n",
       "      <td>0.930736</td>\n",
       "      <td>-0.073203</td>\n",
       "      <td>-0.078351</td>\n",
       "      <td>-0.034260</td>\n",
       "      <td>-0.021427</td>\n",
       "    </tr>\n",
       "    <tr>\n",
       "      <th>std</th>\n",
       "      <td>16.322478</td>\n",
       "      <td>7.438927</td>\n",
       "      <td>6.775522</td>\n",
       "      <td>9.595556</td>\n",
       "      <td>6.326771</td>\n",
       "      <td>2.175570</td>\n",
       "      <td>7.744062</td>\n",
       "      <td>2.423130</td>\n",
       "      <td>9.143387</td>\n",
       "      <td>2.826357</td>\n",
       "      <td>...</td>\n",
       "      <td>8.987204</td>\n",
       "      <td>6.721710</td>\n",
       "      <td>4.969983</td>\n",
       "      <td>5.417391</td>\n",
       "      <td>6.742955</td>\n",
       "      <td>24.082147</td>\n",
       "      <td>17.703642</td>\n",
       "      <td>18.217413</td>\n",
       "      <td>4.482634</td>\n",
       "      <td>3.634552</td>\n",
       "    </tr>\n",
       "    <tr>\n",
       "      <th>min</th>\n",
       "      <td>-66.641748</td>\n",
       "      <td>-29.220241</td>\n",
       "      <td>-30.654468</td>\n",
       "      <td>-33.740495</td>\n",
       "      <td>-24.219525</td>\n",
       "      <td>-9.337712</td>\n",
       "      <td>-31.532589</td>\n",
       "      <td>-9.639828</td>\n",
       "      <td>-37.491770</td>\n",
       "      <td>-12.052411</td>\n",
       "      <td>...</td>\n",
       "      <td>-37.351741</td>\n",
       "      <td>-28.139802</td>\n",
       "      <td>-20.089918</td>\n",
       "      <td>-22.729694</td>\n",
       "      <td>-27.095716</td>\n",
       "      <td>-125.492433</td>\n",
       "      <td>-69.270311</td>\n",
       "      <td>-71.285783</td>\n",
       "      <td>-18.056582</td>\n",
       "      <td>-15.489350</td>\n",
       "    </tr>\n",
       "    <tr>\n",
       "      <th>25%</th>\n",
       "      <td>-9.222814</td>\n",
       "      <td>-2.862322</td>\n",
       "      <td>-4.564484</td>\n",
       "      <td>-3.878327</td>\n",
       "      <td>-4.238426</td>\n",
       "      <td>-1.352953</td>\n",
       "      <td>-5.219120</td>\n",
       "      <td>-1.641438</td>\n",
       "      <td>-6.086353</td>\n",
       "      <td>-1.893490</td>\n",
       "      <td>...</td>\n",
       "      <td>-6.123378</td>\n",
       "      <td>-4.509226</td>\n",
       "      <td>-3.367502</td>\n",
       "      <td>-3.677512</td>\n",
       "      <td>-4.550944</td>\n",
       "      <td>-14.632553</td>\n",
       "      <td>-12.417612</td>\n",
       "      <td>-12.783629</td>\n",
       "      <td>-3.042477</td>\n",
       "      <td>-2.466570</td>\n",
       "    </tr>\n",
       "    <tr>\n",
       "      <th>50%</th>\n",
       "      <td>1.948448</td>\n",
       "      <td>2.216943</td>\n",
       "      <td>-0.042482</td>\n",
       "      <td>2.710285</td>\n",
       "      <td>0.011356</td>\n",
       "      <td>0.074250</td>\n",
       "      <td>-0.030783</td>\n",
       "      <td>-0.007113</td>\n",
       "      <td>0.308558</td>\n",
       "      <td>0.004509</td>\n",
       "      <td>...</td>\n",
       "      <td>-0.066102</td>\n",
       "      <td>0.013268</td>\n",
       "      <td>0.002512</td>\n",
       "      <td>0.023989</td>\n",
       "      <td>0.044790</td>\n",
       "      <td>0.938133</td>\n",
       "      <td>-0.621119</td>\n",
       "      <td>-0.645373</td>\n",
       "      <td>-0.012867</td>\n",
       "      <td>-0.030384</td>\n",
       "    </tr>\n",
       "    <tr>\n",
       "      <th>75%</th>\n",
       "      <td>12.888837</td>\n",
       "      <td>6.987782</td>\n",
       "      <td>4.558655</td>\n",
       "      <td>9.133568</td>\n",
       "      <td>4.249599</td>\n",
       "      <td>1.573182</td>\n",
       "      <td>5.217230</td>\n",
       "      <td>1.624408</td>\n",
       "      <td>6.315229</td>\n",
       "      <td>1.919187</td>\n",
       "      <td>...</td>\n",
       "      <td>6.018019</td>\n",
       "      <td>4.535902</td>\n",
       "      <td>3.355578</td>\n",
       "      <td>3.656905</td>\n",
       "      <td>4.587494</td>\n",
       "      <td>16.715874</td>\n",
       "      <td>11.698938</td>\n",
       "      <td>12.038218</td>\n",
       "      <td>2.989199</td>\n",
       "      <td>2.442418</td>\n",
       "    </tr>\n",
       "    <tr>\n",
       "      <th>max</th>\n",
       "      <td>65.120296</td>\n",
       "      <td>33.767006</td>\n",
       "      <td>29.934983</td>\n",
       "      <td>41.477703</td>\n",
       "      <td>24.979411</td>\n",
       "      <td>9.506645</td>\n",
       "      <td>33.851570</td>\n",
       "      <td>10.263608</td>\n",
       "      <td>37.608023</td>\n",
       "      <td>13.064377</td>\n",
       "      <td>...</td>\n",
       "      <td>46.291216</td>\n",
       "      <td>26.812810</td>\n",
       "      <td>20.284344</td>\n",
       "      <td>19.954633</td>\n",
       "      <td>26.461639</td>\n",
       "      <td>113.671413</td>\n",
       "      <td>75.574199</td>\n",
       "      <td>77.773088</td>\n",
       "      <td>18.988115</td>\n",
       "      <td>14.627478</td>\n",
       "    </tr>\n",
       "  </tbody>\n",
       "</table>\n",
       "<p>8 rows × 45 columns</p>\n",
       "</div>"
      ],
      "text/plain": [
       "                 x0            x1            x2            x3            x4  \\\n",
       "count  39991.000000  39988.000000  39995.000000  39990.000000  39995.000000   \n",
       "mean       1.663499      2.011510     -0.008737      2.581840     -0.002900   \n",
       "std       16.322478      7.438927      6.775522      9.595556      6.326771   \n",
       "min      -66.641748    -29.220241    -30.654468    -33.740495    -24.219525   \n",
       "25%       -9.222814     -2.862322     -4.564484     -3.878327     -4.238426   \n",
       "50%        1.948448      2.216943     -0.042482      2.710285      0.011356   \n",
       "75%       12.888837      6.987782      4.558655      9.133568      4.249599   \n",
       "max       65.120296     33.767006     29.934983     41.477703     24.979411   \n",
       "\n",
       "                 x5            x6            x7            x8           x10  \\\n",
       "count  39990.000000  39992.000000  39994.000000  39990.000000  39994.000000   \n",
       "mean       0.120855     -0.010031     -0.007377      0.040697      0.007054   \n",
       "std        2.175570      7.744062      2.423130      9.143387      2.826357   \n",
       "min       -9.337712    -31.532589     -9.639828    -37.491770    -12.052411   \n",
       "25%       -1.352953     -5.219120     -1.641438     -6.086353     -1.893490   \n",
       "50%        0.074250     -0.030783     -0.007113      0.308558      0.004509   \n",
       "75%        1.573182      5.217230      1.624408      6.315229      1.919187   \n",
       "max        9.506645     33.851570     10.263608     37.608023     13.064377   \n",
       "\n",
       "           ...                x38           x39           x40           x41  \\\n",
       "count      ...       39992.000000  39995.000000  39996.000000  39992.000000   \n",
       "mean       ...          -0.050583      0.018816      0.007086     -0.019522   \n",
       "std        ...           8.987204      6.721710      4.969983      5.417391   \n",
       "min        ...         -37.351741    -28.139802    -20.089918    -22.729694   \n",
       "25%        ...          -6.123378     -4.509226     -3.367502     -3.677512   \n",
       "50%        ...          -0.066102      0.013268      0.002512      0.023989   \n",
       "75%        ...           6.018019      4.535902      3.355578      3.656905   \n",
       "max        ...          46.291216     26.812810     20.284344     19.954633   \n",
       "\n",
       "                x42           x45           x46           x47           x48  \\\n",
       "count  39992.000000  39992.000000  39993.000000  39993.000000  39994.000000   \n",
       "mean       0.009597      0.930736     -0.073203     -0.078351     -0.034260   \n",
       "std        6.742955     24.082147     17.703642     18.217413      4.482634   \n",
       "min      -27.095716   -125.492433    -69.270311    -71.285783    -18.056582   \n",
       "25%       -4.550944    -14.632553    -12.417612    -12.783629     -3.042477   \n",
       "50%        0.044790      0.938133     -0.621119     -0.645373     -0.012867   \n",
       "75%        4.587494     16.715874     11.698938     12.038218      2.989199   \n",
       "max       26.461639    113.671413     75.574199     77.773088     18.988115   \n",
       "\n",
       "                x49  \n",
       "count  39993.000000  \n",
       "mean      -0.021427  \n",
       "std        3.634552  \n",
       "min      -15.489350  \n",
       "25%       -2.466570  \n",
       "50%       -0.030384  \n",
       "75%        2.442418  \n",
       "max       14.627478  \n",
       "\n",
       "[8 rows x 45 columns]"
      ]
     },
     "execution_count": 11,
     "metadata": {},
     "output_type": "execute_result"
    }
   ],
   "source": [
    "# Checking basic statistics for the continous data in testing dataframe\n",
    "test_df.describe()"
   ]
  },
  {
   "cell_type": "code",
   "execution_count": 12,
   "metadata": {},
   "outputs": [
    {
     "data": {
      "text/html": [
       "<div>\n",
       "<table border=\"1\" class=\"dataframe\">\n",
       "  <thead>\n",
       "    <tr style=\"text-align: right;\">\n",
       "      <th></th>\n",
       "      <th>x9</th>\n",
       "      <th>x16</th>\n",
       "      <th>x19</th>\n",
       "      <th>x43</th>\n",
       "      <th>x44</th>\n",
       "    </tr>\n",
       "  </thead>\n",
       "  <tbody>\n",
       "    <tr>\n",
       "      <th>count</th>\n",
       "      <td>159966</td>\n",
       "      <td>159964</td>\n",
       "      <td>159971</td>\n",
       "      <td>159973</td>\n",
       "      <td>159961</td>\n",
       "    </tr>\n",
       "    <tr>\n",
       "      <th>unique</th>\n",
       "      <td>12</td>\n",
       "      <td>3</td>\n",
       "      <td>12</td>\n",
       "      <td>5</td>\n",
       "      <td>129468</td>\n",
       "    </tr>\n",
       "    <tr>\n",
       "      <th>top</th>\n",
       "      <td>0.01%</td>\n",
       "      <td>asia</td>\n",
       "      <td>Jun</td>\n",
       "      <td>wednesday</td>\n",
       "      <td>$245.6</td>\n",
       "    </tr>\n",
       "    <tr>\n",
       "      <th>freq</th>\n",
       "      <td>38827</td>\n",
       "      <td>138509</td>\n",
       "      <td>44659</td>\n",
       "      <td>101016</td>\n",
       "      <td>6</td>\n",
       "    </tr>\n",
       "  </tbody>\n",
       "</table>\n",
       "</div>"
      ],
      "text/plain": [
       "            x9     x16     x19        x43     x44\n",
       "count   159966  159964  159971     159973  159961\n",
       "unique      12       3      12          5  129468\n",
       "top      0.01%    asia     Jun  wednesday  $245.6\n",
       "freq     38827  138509   44659     101016       6"
      ]
     },
     "execution_count": 12,
     "metadata": {},
     "output_type": "execute_result"
    }
   ],
   "source": [
    "# Checking statistics for the categorical data in training dataframe\n",
    "train_df.describe(include = ['O'])"
   ]
  },
  {
   "cell_type": "code",
   "execution_count": 13,
   "metadata": {},
   "outputs": [
    {
     "data": {
      "text/html": [
       "<div>\n",
       "<table border=\"1\" class=\"dataframe\">\n",
       "  <thead>\n",
       "    <tr style=\"text-align: right;\">\n",
       "      <th></th>\n",
       "      <th>x9</th>\n",
       "      <th>x16</th>\n",
       "      <th>x19</th>\n",
       "      <th>x43</th>\n",
       "      <th>x44</th>\n",
       "    </tr>\n",
       "  </thead>\n",
       "  <tbody>\n",
       "    <tr>\n",
       "      <th>count</th>\n",
       "      <td>39997</td>\n",
       "      <td>39989</td>\n",
       "      <td>39994</td>\n",
       "      <td>39993</td>\n",
       "      <td>39990</td>\n",
       "    </tr>\n",
       "    <tr>\n",
       "      <th>unique</th>\n",
       "      <td>11</td>\n",
       "      <td>3</td>\n",
       "      <td>12</td>\n",
       "      <td>5</td>\n",
       "      <td>37801</td>\n",
       "    </tr>\n",
       "    <tr>\n",
       "      <th>top</th>\n",
       "      <td>-0.01%</td>\n",
       "      <td>asia</td>\n",
       "      <td>Jun</td>\n",
       "      <td>wednesday</td>\n",
       "      <td>$537.54</td>\n",
       "    </tr>\n",
       "    <tr>\n",
       "      <th>freq</th>\n",
       "      <td>9647</td>\n",
       "      <td>34620</td>\n",
       "      <td>11136</td>\n",
       "      <td>25397</td>\n",
       "      <td>5</td>\n",
       "    </tr>\n",
       "  </tbody>\n",
       "</table>\n",
       "</div>"
      ],
      "text/plain": [
       "            x9    x16    x19        x43      x44\n",
       "count    39997  39989  39994      39993    39990\n",
       "unique      11      3     12          5    37801\n",
       "top     -0.01%   asia    Jun  wednesday  $537.54\n",
       "freq      9647  34620  11136      25397        5"
      ]
     },
     "execution_count": 13,
     "metadata": {},
     "output_type": "execute_result"
    }
   ],
   "source": [
    "# Checking statistics for the categorical data in testing dataframe\n",
    "test_df.describe(include=['O'])"
   ]
  },
  {
   "cell_type": "markdown",
   "metadata": {},
   "source": [
    "#### Understanding Continous Features"
   ]
  },
  {
   "cell_type": "markdown",
   "metadata": {},
   "source": [
    "- Some of the continous features seems to have very high standard deviations from the mean which means that they would be far from correlation with the target variable, we might want to identify and avoid those in the final model\n",
    "- We have days, months and countries from the categorical features. We should consider multiple combinations to check which combinations gives best predictions"
   ]
  },
  {
   "cell_type": "code",
   "execution_count": 14,
   "metadata": {},
   "outputs": [
    {
     "data": {
      "text/plain": [
       "<seaborn.axisgrid.FacetGrid at 0x1149e57b8>"
      ]
     },
     "execution_count": 14,
     "metadata": {},
     "output_type": "execute_result"
    },
    {
     "data": {
      "image/png": "[encoded data removed]",
      "text/plain": [
       "<matplotlib.figure.Figure at 0x1063f7128>"
      ]
     },
     "metadata": {},
     "output_type": "display_data"
    }
   ],
   "source": [
    "x0_variable = sns.FacetGrid(train_df, col='y')\n",
    "x0_variable.map(plt.hist, 'x0', bins=20)"
   ]
  },
  {
   "cell_type": "code",
   "execution_count": 15,
   "metadata": {},
   "outputs": [
    {
     "data": {
      "text/plain": [
       "<seaborn.axisgrid.FacetGrid at 0x1149e5e48>"
      ]
     },
     "execution_count": 15,
     "metadata": {},
     "output_type": "execute_result"
    },
    {
     "data": {
      "image/png": "[encoded data removed]",
      "text/plain": [
       "<matplotlib.figure.Figure at 0x10494d8d0>"
      ]
     },
     "metadata": {},
     "output_type": "display_data"
    }
   ],
   "source": [
    "x1_variable = sns.FacetGrid(train_df, col='y')\n",
    "x1_variable.map(plt.hist, 'x1', bins=20)"
   ]
  },
  {
   "cell_type": "code",
   "execution_count": 16,
   "metadata": {},
   "outputs": [
    {
     "data": {
      "text/plain": [
       "<seaborn.axisgrid.FacetGrid at 0x127b87748>"
      ]
     },
     "execution_count": 16,
     "metadata": {},
     "output_type": "execute_result"
    },
    {
     "data": {
      "image/png": "[encoded data removed]",
      "text/plain": [
       "<matplotlib.figure.Figure at 0x1149c2be0>"
      ]
     },
     "metadata": {},
     "output_type": "display_data"
    }
   ],
   "source": [
    "x2_variable = sns.FacetGrid(train_df, col='y')\n",
    "x2_variable.map(plt.hist, 'x2', bins=20)"
   ]
  },
  {
   "cell_type": "code",
   "execution_count": 17,
   "metadata": {},
   "outputs": [
    {
     "data": {
      "text/plain": [
       "<seaborn.axisgrid.FacetGrid at 0x12659bbe0>"
      ]
     },
     "execution_count": 17,
     "metadata": {},
     "output_type": "execute_result"
    },
    {
     "data": {
      "image/png": "[encoded data removed]",
      "text/plain": [
       "<matplotlib.figure.Figure at 0x126e2d400>"
      ]
     },
     "metadata": {},
     "output_type": "display_data"
    }
   ],
   "source": [
    "x3_variable = sns.FacetGrid(train_df, col='y')\n",
    "x3_variable.map(plt.hist, 'x3', bins=20)"
   ]
  },
  {
   "cell_type": "code",
   "execution_count": 18,
   "metadata": {},
   "outputs": [
    {
     "data": {
      "text/plain": [
       "<seaborn.axisgrid.FacetGrid at 0x12716e0f0>"
      ]
     },
     "execution_count": 18,
     "metadata": {},
     "output_type": "execute_result"
    },
    {
     "data": {
      "image/png": "[encoded data removed]",
      "text/plain": [
       "<matplotlib.figure.Figure at 0x10636a320>"
      ]
     },
     "metadata": {},
     "output_type": "display_data"
    }
   ],
   "source": [
    "x4_variable = sns.FacetGrid(train_df, col='y')\n",
    "x4_variable.map(plt.hist, 'x4', bins=20)"
   ]
  },
  {
   "cell_type": "code",
   "execution_count": 19,
   "metadata": {},
   "outputs": [
    {
     "data": {
      "text/plain": [
       "<seaborn.axisgrid.FacetGrid at 0x12640d5c0>"
      ]
     },
     "execution_count": 19,
     "metadata": {},
     "output_type": "execute_result"
    },
    {
     "data": {
      "image/png": "[encoded data removed]",
      "text/plain": [
       "<matplotlib.figure.Figure at 0x10fe86e10>"
      ]
     },
     "metadata": {},
     "output_type": "display_data"
    }
   ],
   "source": [
    "x5_variable = sns.FacetGrid(train_df, col='y')\n",
    "x5_variable.map(plt.hist, 'x5', bins=20)"
   ]
  },
  {
   "cell_type": "code",
   "execution_count": 20,
   "metadata": {},
   "outputs": [
    {
     "data": {
      "text/plain": [
       "<seaborn.axisgrid.FacetGrid at 0x1271f4c88>"
      ]
     },
     "execution_count": 20,
     "metadata": {},
     "output_type": "execute_result"
    },
    {
     "data": {
      "image/png": "[encoded data removed]",
      "text/plain": [
       "<matplotlib.figure.Figure at 0x1118ba2b0>"
      ]
     },
     "metadata": {},
     "output_type": "display_data"
    }
   ],
   "source": [
    "x6_variable = sns.FacetGrid(train_df, col='y')\n",
    "x6_variable.map(plt.hist, 'x6', bins=20)"
   ]
  },
  {
   "cell_type": "code",
   "execution_count": 21,
   "metadata": {},
   "outputs": [
    {
     "data": {
      "text/plain": [
       "<seaborn.axisgrid.FacetGrid at 0x113560080>"
      ]
     },
     "execution_count": 21,
     "metadata": {},
     "output_type": "execute_result"
    },
    {
     "data": {
      "image/png": "[encoded data removed]",
      "text/plain": [
       "<matplotlib.figure.Figure at 0x1135a77b8>"
      ]
     },
     "metadata": {},
     "output_type": "display_data"
    }
   ],
   "source": [
    "x7_variable = sns.FacetGrid(train_df, col='y')\n",
    "x7_variable.map(plt.hist, 'x7', bins=20)"
   ]
  },
  {
   "cell_type": "code",
   "execution_count": 22,
   "metadata": {},
   "outputs": [
    {
     "data": {
      "text/plain": [
       "<seaborn.axisgrid.FacetGrid at 0x127bd2198>"
      ]
     },
     "execution_count": 22,
     "metadata": {},
     "output_type": "execute_result"
    },
    {
     "data": {
      "image/png": "[encoded data removed]",
      "text/plain": [
       "<matplotlib.figure.Figure at 0x126567c88>"
      ]
     },
     "metadata": {},
     "output_type": "display_data"
    }
   ],
   "source": [
    "x8_variable = sns.FacetGrid(train_df, col='y')\n",
    "x8_variable.map(plt.hist, 'x8', bins=20)"
   ]
  },
  {
   "cell_type": "code",
   "execution_count": 23,
   "metadata": {},
   "outputs": [
    {
     "data": {
      "text/plain": [
       "<seaborn.axisgrid.FacetGrid at 0x127bba8d0>"
      ]
     },
     "execution_count": 23,
     "metadata": {},
     "output_type": "execute_result"
    },
    {
     "data": {
      "image/png": "[encoded data removed]",
      "text/plain": [
       "<matplotlib.figure.Figure at 0x1271bb6d8>"
      ]
     },
     "metadata": {},
     "output_type": "display_data"
    }
   ],
   "source": [
    "x10_variable = sns.FacetGrid(train_df, col='y')\n",
    "x10_variable.map(plt.hist, 'x10', bins=20)"
   ]
  },
  {
   "cell_type": "code",
   "execution_count": 24,
   "metadata": {},
   "outputs": [
    {
     "data": {
      "text/plain": [
       "<seaborn.axisgrid.FacetGrid at 0x127f960f0>"
      ]
     },
     "execution_count": 24,
     "metadata": {},
     "output_type": "execute_result"
    },
    {
     "data": {
      "image/png": "[encoded data removed]",
      "text/plain": [
       "<matplotlib.figure.Figure at 0x127f96be0>"
      ]
     },
     "metadata": {},
     "output_type": "display_data"
    }
   ],
   "source": [
    "x11_variable = sns.FacetGrid(train_df, col='y')\n",
    "x11_variable.map(plt.hist, 'x11', bins=20)"
   ]
  },
  {
   "cell_type": "code",
   "execution_count": 25,
   "metadata": {},
   "outputs": [
    {
     "data": {
      "text/plain": [
       "<seaborn.axisgrid.FacetGrid at 0x113c9e710>"
      ]
     },
     "execution_count": 25,
     "metadata": {},
     "output_type": "execute_result"
    },
    {
     "data": {
      "image/png": "[encoded data removed]",
      "text/plain": [
       "<matplotlib.figure.Figure at 0x1286c8d30>"
      ]
     },
     "metadata": {},
     "output_type": "display_data"
    }
   ],
   "source": [
    "x12_variable = sns.FacetGrid(train_df, col='y')\n",
    "x12_variable.map(plt.hist, 'x12', bins=20)"
   ]
  },
  {
   "cell_type": "code",
   "execution_count": 26,
   "metadata": {},
   "outputs": [
    {
     "data": {
      "text/plain": [
       "<seaborn.axisgrid.FacetGrid at 0x128715d68>"
      ]
     },
     "execution_count": 26,
     "metadata": {},
     "output_type": "execute_result"
    },
    {
     "data": {
      "image/png": "[encoded data removed]",
      "text/plain": [
       "<matplotlib.figure.Figure at 0x1144312e8>"
      ]
     },
     "metadata": {},
     "output_type": "display_data"
    }
   ],
   "source": [
    "x13_variable = sns.FacetGrid(train_df, col='y')\n",
    "x13_variable.map(plt.hist, 'x13', bins=20)"
   ]
  },
  {
   "cell_type": "code",
   "execution_count": 27,
   "metadata": {},
   "outputs": [
    {
     "data": {
      "text/plain": [
       "<seaborn.axisgrid.FacetGrid at 0x128dabe10>"
      ]
     },
     "execution_count": 27,
     "metadata": {},
     "output_type": "execute_result"
    },
    {
     "data": {
      "image/png": "[encoded data removed]",
      "text/plain": [
       "<matplotlib.figure.Figure at 0x113589cf8>"
      ]
     },
     "metadata": {},
     "output_type": "display_data"
    }
   ],
   "source": [
    "x14_variable = sns.FacetGrid(train_df, col='y')\n",
    "x14_variable.map(plt.hist, 'x14', bins=20)"
   ]
  },
  {
   "cell_type": "code",
   "execution_count": 28,
   "metadata": {},
   "outputs": [
    {
     "data": {
      "text/plain": [
       "<seaborn.axisgrid.FacetGrid at 0x12a3f6898>"
      ]
     },
     "execution_count": 28,
     "metadata": {},
     "output_type": "execute_result"
    },
    {
     "data": {
      "image/png": "[encoded data removed]",
      "text/plain": [
       "<matplotlib.figure.Figure at 0x12756df28>"
      ]
     },
     "metadata": {},
     "output_type": "display_data"
    }
   ],
   "source": [
    "x15_variable = sns.FacetGrid(train_df, col='y')\n",
    "x15_variable.map(plt.hist, 'x15', bins=20)"
   ]
  },
  {
   "cell_type": "code",
   "execution_count": 29,
   "metadata": {},
   "outputs": [
    {
     "data": {
      "text/plain": [
       "<seaborn.axisgrid.FacetGrid at 0x1294deeb8>"
      ]
     },
     "execution_count": 29,
     "metadata": {},
     "output_type": "execute_result"
    },
    {
     "data": {
      "image/png": "[encoded data removed]",
      "text/plain": [
       "<matplotlib.figure.Figure at 0x1294deda0>"
      ]
     },
     "metadata": {},
     "output_type": "display_data"
    }
   ],
   "source": [
    "x17_variable = sns.FacetGrid(train_df, col='y')\n",
    "x17_variable.map(plt.hist, 'x17', bins=20)"
   ]
  },
  {
   "cell_type": "code",
   "execution_count": 30,
   "metadata": {},
   "outputs": [
    {
     "data": {
      "text/plain": [
       "<seaborn.axisgrid.FacetGrid at 0x1294e92e8>"
      ]
     },
     "execution_count": 30,
     "metadata": {},
     "output_type": "execute_result"
    },
    {
     "data": {
      "image/png": "[encoded data removed]",
      "text/plain": [
       "<matplotlib.figure.Figure at 0x113883828>"
      ]
     },
     "metadata": {},
     "output_type": "display_data"
    }
   ],
   "source": [
    "x18_variable = sns.FacetGrid(train_df, col='y')\n",
    "x18_variable.map(plt.hist, 'x18', bins=20)"
   ]
  },
  {
   "cell_type": "code",
   "execution_count": 31,
   "metadata": {},
   "outputs": [
    {
     "data": {
      "text/plain": [
       "<seaborn.axisgrid.FacetGrid at 0x115c92ba8>"
      ]
     },
     "execution_count": 31,
     "metadata": {},
     "output_type": "execute_result"
    },
    {
     "data": {
      "image/png": "[encoded data removed]",
      "text/plain": [
       "<matplotlib.figure.Figure at 0x114dc6518>"
      ]
     },
     "metadata": {},
     "output_type": "display_data"
    }
   ],
   "source": [
    "x20_variable = sns.FacetGrid(train_df, col='y')\n",
    "x20_variable.map(plt.hist, 'x20', bins=20)"
   ]
  },
  {
   "cell_type": "code",
   "execution_count": 32,
   "metadata": {},
   "outputs": [
    {
     "data": {
      "text/plain": [
       "<seaborn.axisgrid.FacetGrid at 0x116b3f160>"
      ]
     },
     "execution_count": 32,
     "metadata": {},
     "output_type": "execute_result"
    },
    {
     "data": {
      "image/png": "[encoded data removed]",
      "text/plain": [
       "<matplotlib.figure.Figure at 0x115873358>"
      ]
     },
     "metadata": {},
     "output_type": "display_data"
    }
   ],
   "source": [
    "x21_variable = sns.FacetGrid(train_df, col='y')\n",
    "x21_variable.map(plt.hist, 'x21', bins=20)"
   ]
  },
  {
   "cell_type": "code",
   "execution_count": 33,
   "metadata": {},
   "outputs": [
    {
     "data": {
      "text/plain": [
       "<seaborn.axisgrid.FacetGrid at 0x12a4e7d30>"
      ]
     },
     "execution_count": 33,
     "metadata": {},
     "output_type": "execute_result"
    },
    {
     "data": {
      "image/png": "[encoded data removed]",
      "text/plain": [
       "<matplotlib.figure.Figure at 0x12a4e74e0>"
      ]
     },
     "metadata": {},
     "output_type": "display_data"
    }
   ],
   "source": [
    "x22_variable = sns.FacetGrid(train_df, col='y')\n",
    "x22_variable.map(plt.hist, 'x22', bins=20)"
   ]
  },
  {
   "cell_type": "code",
   "execution_count": 34,
   "metadata": {},
   "outputs": [
    {
     "data": {
      "text/plain": [
       "<seaborn.axisgrid.FacetGrid at 0x1169a5d30>"
      ]
     },
     "execution_count": 34,
     "metadata": {},
     "output_type": "execute_result"
    },
    {
     "data": {
      "image/png": "[encoded data removed]",
      "text/plain": [
       "<matplotlib.figure.Figure at 0x128349898>"
      ]
     },
     "metadata": {},
     "output_type": "display_data"
    }
   ],
   "source": [
    "x23_variable = sns.FacetGrid(train_df, col='y')\n",
    "x23_variable.map(plt.hist, 'x23', bins=20)"
   ]
  },
  {
   "cell_type": "code",
   "execution_count": 35,
   "metadata": {},
   "outputs": [
    {
     "data": {
      "text/plain": [
       "<seaborn.axisgrid.FacetGrid at 0x128f94f28>"
      ]
     },
     "execution_count": 35,
     "metadata": {},
     "output_type": "execute_result"
    },
    {
     "data": {
      "image/png": "[encoded data removed]",
      "text/plain": [
       "<matplotlib.figure.Figure at 0x11651b710>"
      ]
     },
     "metadata": {},
     "output_type": "display_data"
    }
   ],
   "source": [
    "x24_variable = sns.FacetGrid(train_df, col='y')\n",
    "x24_variable.map(plt.hist, 'x24', bins=20)"
   ]
  },
  {
   "cell_type": "code",
   "execution_count": 36,
   "metadata": {},
   "outputs": [
    {
     "data": {
      "text/plain": [
       "<seaborn.axisgrid.FacetGrid at 0x116acacf8>"
      ]
     },
     "execution_count": 36,
     "metadata": {},
     "output_type": "execute_result"
    },
    {
     "data": {
      "image/png": "[encoded data removed]",
      "text/plain": [
       "<matplotlib.figure.Figure at 0x11570ceb8>"
      ]
     },
     "metadata": {},
     "output_type": "display_data"
    }
   ],
   "source": [
    "x25_variable = sns.FacetGrid(train_df, col='y')\n",
    "x25_variable.map(plt.hist, 'x25', bins=20)"
   ]
  },
  {
   "cell_type": "code",
   "execution_count": 37,
   "metadata": {},
   "outputs": [
    {
     "data": {
      "text/plain": [
       "<seaborn.axisgrid.FacetGrid at 0x1293e8f98>"
      ]
     },
     "execution_count": 37,
     "metadata": {},
     "output_type": "execute_result"
    },
    {
     "data": {
      "image/png": "[encoded data removed]",
      "text/plain": [
       "<matplotlib.figure.Figure at 0x127080f98>"
      ]
     },
     "metadata": {},
     "output_type": "display_data"
    }
   ],
   "source": [
    "x26_variable = sns.FacetGrid(train_df, col='y')\n",
    "x26_variable.map(plt.hist, 'x26', bins=20)"
   ]
  },
  {
   "cell_type": "code",
   "execution_count": 38,
   "metadata": {},
   "outputs": [
    {
     "data": {
      "text/plain": [
       "<seaborn.axisgrid.FacetGrid at 0x11da797b8>"
      ]
     },
     "execution_count": 38,
     "metadata": {},
     "output_type": "execute_result"
    },
    {
     "data": {
      "image/png": "[encoded data removed]",
      "text/plain": [
       "<matplotlib.figure.Figure at 0x11dccbfd0>"
      ]
     },
     "metadata": {},
     "output_type": "display_data"
    }
   ],
   "source": [
    "x27_variable = sns.FacetGrid(train_df, col='y')\n",
    "x27_variable.map(plt.hist, 'x27', bins=20)"
   ]
  },
  {
   "cell_type": "code",
   "execution_count": 39,
   "metadata": {},
   "outputs": [
    {
     "data": {
      "text/plain": [
       "<seaborn.axisgrid.FacetGrid at 0x11dce44a8>"
      ]
     },
     "execution_count": 39,
     "metadata": {},
     "output_type": "execute_result"
    },
    {
     "data": {
      "image/png": "[encoded data removed]",
      "text/plain": [
       "<matplotlib.figure.Figure at 0x116ba9160>"
      ]
     },
     "metadata": {},
     "output_type": "display_data"
    }
   ],
   "source": [
    "x28_variable = sns.FacetGrid(train_df, col='y')\n",
    "x28_variable.map(plt.hist, 'x28', bins=20)"
   ]
  },
  {
   "cell_type": "code",
   "execution_count": 40,
   "metadata": {},
   "outputs": [
    {
     "data": {
      "text/plain": [
       "<seaborn.axisgrid.FacetGrid at 0x11e0b1c88>"
      ]
     },
     "execution_count": 40,
     "metadata": {},
     "output_type": "execute_result"
    },
    {
     "data": {
      "image/png": "[encoded data removed]",
      "text/plain": [
       "<matplotlib.figure.Figure at 0x1169967f0>"
      ]
     },
     "metadata": {},
     "output_type": "display_data"
    }
   ],
   "source": [
    "x29_variable = sns.FacetGrid(train_df, col='y')\n",
    "x29_variable.map(plt.hist, 'x29', bins=20)"
   ]
  },
  {
   "cell_type": "code",
   "execution_count": 41,
   "metadata": {},
   "outputs": [
    {
     "data": {
      "text/plain": [
       "<seaborn.axisgrid.FacetGrid at 0x11ddff630>"
      ]
     },
     "execution_count": 41,
     "metadata": {},
     "output_type": "execute_result"
    },
    {
     "data": {
      "image/png": "[encoded data removed]",
      "text/plain": [
       "<matplotlib.figure.Figure at 0x1279185c0>"
      ]
     },
     "metadata": {},
     "output_type": "display_data"
    }
   ],
   "source": [
    "x30_variable = sns.FacetGrid(train_df, col='y')\n",
    "x30_variable.map(plt.hist, 'x30', bins=20)"
   ]
  },
  {
   "cell_type": "code",
   "execution_count": 42,
   "metadata": {},
   "outputs": [
    {
     "data": {
      "text/plain": [
       "<seaborn.axisgrid.FacetGrid at 0x12af88470>"
      ]
     },
     "execution_count": 42,
     "metadata": {},
     "output_type": "execute_result"
    },
    {
     "data": {
      "image/png": "[encoded data removed]",
      "text/plain": [
       "<matplotlib.figure.Figure at 0x1177e0e80>"
      ]
     },
     "metadata": {},
     "output_type": "display_data"
    }
   ],
   "source": [
    "x31_variable = sns.FacetGrid(train_df, col='y')\n",
    "x31_variable.map(plt.hist, 'x31', bins=20)"
   ]
  },
  {
   "cell_type": "code",
   "execution_count": 43,
   "metadata": {},
   "outputs": [
    {
     "data": {
      "text/plain": [
       "<seaborn.axisgrid.FacetGrid at 0x11e1cf208>"
      ]
     },
     "execution_count": 43,
     "metadata": {},
     "output_type": "execute_result"
    },
    {
     "data": {
      "image/png": "[encoded data removed]",
      "text/plain": [
       "<matplotlib.figure.Figure at 0x12a1f5e80>"
      ]
     },
     "metadata": {},
     "output_type": "display_data"
    }
   ],
   "source": [
    "x32_variable = sns.FacetGrid(train_df, col='y')\n",
    "x32_variable.map(plt.hist, 'x32', bins=20)"
   ]
  },
  {
   "cell_type": "code",
   "execution_count": 44,
   "metadata": {},
   "outputs": [
    {
     "data": {
      "text/plain": [
       "<seaborn.axisgrid.FacetGrid at 0x11e467fd0>"
      ]
     },
     "execution_count": 44,
     "metadata": {},
     "output_type": "execute_result"
    },
    {
     "data": {
      "image/png": "[encoded data removed]",
      "text/plain": [
       "<matplotlib.figure.Figure at 0x11e5d6a90>"
      ]
     },
     "metadata": {},
     "output_type": "display_data"
    }
   ],
   "source": [
    "x33_variable = sns.FacetGrid(train_df, col='y')\n",
    "x33_variable.map(plt.hist, 'x33', bins=20)"
   ]
  },
  {
   "cell_type": "code",
   "execution_count": 45,
   "metadata": {},
   "outputs": [
    {
     "data": {
      "text/plain": [
       "<seaborn.axisgrid.FacetGrid at 0x12b3d7278>"
      ]
     },
     "execution_count": 45,
     "metadata": {},
     "output_type": "execute_result"
    },
    {
     "data": {
      "image/png": "[encoded data removed]",
      "text/plain": [
       "<matplotlib.figure.Figure at 0x12b3e3208>"
      ]
     },
     "metadata": {},
     "output_type": "display_data"
    }
   ],
   "source": [
    "x34_variable = sns.FacetGrid(train_df, col='y')\n",
    "x34_variable.map(plt.hist, 'x34', bins=20)"
   ]
  },
  {
   "cell_type": "code",
   "execution_count": 46,
   "metadata": {},
   "outputs": [
    {
     "data": {
      "text/plain": [
       "<seaborn.axisgrid.FacetGrid at 0x11e7c4d30>"
      ]
     },
     "execution_count": 46,
     "metadata": {},
     "output_type": "execute_result"
    },
    {
     "data": {
      "image/png": "[encoded data removed]",
      "text/plain": [
       "<matplotlib.figure.Figure at 0x124857f60>"
      ]
     },
     "metadata": {},
     "output_type": "display_data"
    }
   ],
   "source": [
    "x35_variable = sns.FacetGrid(train_df, col='y')\n",
    "x35_variable.map(plt.hist, 'x35', bins=20)"
   ]
  },
  {
   "cell_type": "code",
   "execution_count": 47,
   "metadata": {},
   "outputs": [
    {
     "data": {
      "text/plain": [
       "<seaborn.axisgrid.FacetGrid at 0x12a08c8d0>"
      ]
     },
     "execution_count": 47,
     "metadata": {},
     "output_type": "execute_result"
    },
    {
     "data": {
      "image/png": "[encoded data removed]",
      "text/plain": [
       "<matplotlib.figure.Figure at 0x11e6ed860>"
      ]
     },
     "metadata": {},
     "output_type": "display_data"
    }
   ],
   "source": [
    "x36_variable = sns.FacetGrid(train_df, col='y')\n",
    "x36_variable.map(plt.hist, 'x36', bins=20)"
   ]
  },
  {
   "cell_type": "code",
   "execution_count": 48,
   "metadata": {},
   "outputs": [
    {
     "data": {
      "text/plain": [
       "<seaborn.axisgrid.FacetGrid at 0x124b512b0>"
      ]
     },
     "execution_count": 48,
     "metadata": {},
     "output_type": "execute_result"
    },
    {
     "data": {
      "image/png": "[encoded data removed]",
      "text/plain": [
       "<matplotlib.figure.Figure at 0x1248f7ac8>"
      ]
     },
     "metadata": {},
     "output_type": "display_data"
    }
   ],
   "source": [
    "x37_variable = sns.FacetGrid(train_df, col='y')\n",
    "x37_variable.map(plt.hist, 'x37', bins=20)"
   ]
  },
  {
   "cell_type": "code",
   "execution_count": 49,
   "metadata": {},
   "outputs": [
    {
     "data": {
      "text/plain": [
       "<seaborn.axisgrid.FacetGrid at 0x12d425668>"
      ]
     },
     "execution_count": 49,
     "metadata": {},
     "output_type": "execute_result"
    },
    {
     "data": {
      "image/png": "[encoded data removed]",
      "text/plain": [
       "<matplotlib.figure.Figure at 0x124b462e8>"
      ]
     },
     "metadata": {},
     "output_type": "display_data"
    }
   ],
   "source": [
    "x38_variable = sns.FacetGrid(train_df, col='y')\n",
    "x38_variable.map(plt.hist, 'x38', bins=20)"
   ]
  },
  {
   "cell_type": "code",
   "execution_count": 50,
   "metadata": {},
   "outputs": [
    {
     "data": {
      "text/plain": [
       "<seaborn.axisgrid.FacetGrid at 0x12d8d7828>"
      ]
     },
     "execution_count": 50,
     "metadata": {},
     "output_type": "execute_result"
    },
    {
     "data": {
      "image/png": "[encoded data removed]",
      "text/plain": [
       "<matplotlib.figure.Figure at 0x129bebc88>"
      ]
     },
     "metadata": {},
     "output_type": "display_data"
    }
   ],
   "source": [
    "x39_variable = sns.FacetGrid(train_df, col='y')\n",
    "x39_variable.map(plt.hist, 'x39', bins=20)"
   ]
  },
  {
   "cell_type": "code",
   "execution_count": 51,
   "metadata": {},
   "outputs": [
    {
     "data": {
      "text/plain": [
       "<seaborn.axisgrid.FacetGrid at 0x12b146e10>"
      ]
     },
     "execution_count": 51,
     "metadata": {},
     "output_type": "execute_result"
    },
    {
     "data": {
      "image/png": "[encoded data removed]",
      "text/plain": [
       "<matplotlib.figure.Figure at 0x1251ae0b8>"
      ]
     },
     "metadata": {},
     "output_type": "display_data"
    }
   ],
   "source": [
    "x40_variable = sns.FacetGrid(train_df, col='y')\n",
    "x40_variable.map(plt.hist, 'x40', bins=20)"
   ]
  },
  {
   "cell_type": "code",
   "execution_count": 52,
   "metadata": {},
   "outputs": [
    {
     "data": {
      "text/plain": [
       "<seaborn.axisgrid.FacetGrid at 0x12d429208>"
      ]
     },
     "execution_count": 52,
     "metadata": {},
     "output_type": "execute_result"
    },
    {
     "data": {
      "image/png": "[encoded data removed]",
      "text/plain": [
       "<matplotlib.figure.Figure at 0x12ba2e860>"
      ]
     },
     "metadata": {},
     "output_type": "display_data"
    }
   ],
   "source": [
    "x41_variable = sns.FacetGrid(train_df, col='y')\n",
    "x41_variable.map(plt.hist, 'x41', bins=20)"
   ]
  },
  {
   "cell_type": "code",
   "execution_count": 53,
   "metadata": {},
   "outputs": [
    {
     "data": {
      "text/plain": [
       "<seaborn.axisgrid.FacetGrid at 0x12ba417b8>"
      ]
     },
     "execution_count": 53,
     "metadata": {},
     "output_type": "execute_result"
    },
    {
     "data": {
      "image/png": "[encoded data removed]",
      "text/plain": [
       "<matplotlib.figure.Figure at 0x125504e10>"
      ]
     },
     "metadata": {},
     "output_type": "display_data"
    }
   ],
   "source": [
    "x42_variable = sns.FacetGrid(train_df, col='y')\n",
    "x42_variable.map(plt.hist, 'x42', bins=20)"
   ]
  },
  {
   "cell_type": "code",
   "execution_count": 54,
   "metadata": {},
   "outputs": [
    {
     "data": {
      "text/plain": [
       "<seaborn.axisgrid.FacetGrid at 0x11eab94e0>"
      ]
     },
     "execution_count": 54,
     "metadata": {},
     "output_type": "execute_result"
    },
    {
     "data": {
      "image/png": "[encoded data removed]",
      "text/plain": [
       "<matplotlib.figure.Figure at 0x12b3fec18>"
      ]
     },
     "metadata": {},
     "output_type": "display_data"
    }
   ],
   "source": [
    "x45_variable = sns.FacetGrid(train_df, col='y')\n",
    "x45_variable.map(plt.hist, 'x45', bins=20)"
   ]
  },
  {
   "cell_type": "code",
   "execution_count": 55,
   "metadata": {},
   "outputs": [
    {
     "data": {
      "text/plain": [
       "<seaborn.axisgrid.FacetGrid at 0x1259a9f98>"
      ]
     },
     "execution_count": 55,
     "metadata": {},
     "output_type": "execute_result"
    },
    {
     "data": {
      "image/png": "[encoded data removed]",
      "text/plain": [
       "<matplotlib.figure.Figure at 0x12553ffd0>"
      ]
     },
     "metadata": {},
     "output_type": "display_data"
    }
   ],
   "source": [
    "x46_variable = sns.FacetGrid(train_df, col='y')\n",
    "x46_variable.map(plt.hist, 'x46', bins=20)"
   ]
  },
  {
   "cell_type": "code",
   "execution_count": 56,
   "metadata": {},
   "outputs": [
    {
     "data": {
      "text/plain": [
       "<seaborn.axisgrid.FacetGrid at 0x12c6c7cf8>"
      ]
     },
     "execution_count": 56,
     "metadata": {},
     "output_type": "execute_result"
    },
    {
     "data": {
      "image/png": "[encoded data removed]",
      "text/plain": [
       "<matplotlib.figure.Figure at 0x1169ac208>"
      ]
     },
     "metadata": {},
     "output_type": "display_data"
    }
   ],
   "source": [
    "x47_variable = sns.FacetGrid(train_df, col='y')\n",
    "x47_variable.map(plt.hist, 'x47', bins=10)"
   ]
  },
  {
   "cell_type": "code",
   "execution_count": 57,
   "metadata": {},
   "outputs": [
    {
     "data": {
      "text/plain": [
       "<seaborn.axisgrid.FacetGrid at 0x12ca35048>"
      ]
     },
     "execution_count": 57,
     "metadata": {},
     "output_type": "execute_result"
    },
    {
     "data": {
      "image/png": "[encoded data removed]",
      "text/plain": [
       "<matplotlib.figure.Figure at 0x12b13f5c0>"
      ]
     },
     "metadata": {},
     "output_type": "display_data"
    }
   ],
   "source": [
    "x48_variable = sns.FacetGrid(train_df, col='y')\n",
    "x48_variable.map(plt.hist, 'x48', bins=20)"
   ]
  },
  {
   "cell_type": "code",
   "execution_count": 58,
   "metadata": {},
   "outputs": [
    {
     "data": {
      "text/plain": [
       "<seaborn.axisgrid.FacetGrid at 0x1314e63c8>"
      ]
     },
     "execution_count": 58,
     "metadata": {},
     "output_type": "execute_result"
    },
    {
     "data": {
      "image/png": "[encoded data removed]",
      "text/plain": [
       "<matplotlib.figure.Figure at 0x12a6f1b00>"
      ]
     },
     "metadata": {},
     "output_type": "display_data"
    }
   ],
   "source": [
    "x49_variable = sns.FacetGrid(train_df, col='y')\n",
    "x49_variable.map(plt.hist, 'x49', bins=20)"
   ]
  },
  {
   "cell_type": "markdown",
   "metadata": {
    "collapsed": true
   },
   "source": [
    "#### Understanding Categorical Features"
   ]
  },
  {
   "cell_type": "markdown",
   "metadata": {
    "collapsed": true
   },
   "source": [
    "- All the categorical features could be converted into numerical data by applying one-hot-encoding technique\n",
    "- x9 feature appears to have ordinal data, hence should be tried converting to either numerical or dummies, whichever adds better weight to the model"
   ]
  },
  {
   "cell_type": "code",
   "execution_count": 59,
   "metadata": {},
   "outputs": [
    {
     "data": {
      "text/plain": [
       "0.01%     38827\n",
       "-0.01%    38572\n",
       "-0.0%     30771\n",
       "0.0%      30534\n",
       "0.02%      9664\n",
       "-0.02%     9627\n",
       "-0.03%      957\n",
       "0.03%       921\n",
       "-0.04%       55\n",
       "0.04%        35\n",
       "0.05%         2\n",
       "-0.05%        1\n",
       "Name: x9, dtype: int64"
      ]
     },
     "execution_count": 59,
     "metadata": {},
     "output_type": "execute_result"
    }
   ],
   "source": [
    "train_df.x9.value_counts()"
   ]
  },
  {
   "cell_type": "code",
   "execution_count": 60,
   "metadata": {},
   "outputs": [
    {
     "data": {
      "text/html": [
       "<div>\n",
       "<table border=\"1\" class=\"dataframe\">\n",
       "  <thead>\n",
       "    <tr style=\"text-align: right;\">\n",
       "      <th></th>\n",
       "      <th>x9</th>\n",
       "      <th>y</th>\n",
       "    </tr>\n",
       "  </thead>\n",
       "  <tbody>\n",
       "    <tr>\n",
       "      <th>11</th>\n",
       "      <td>0.05%</td>\n",
       "      <td>0.500000</td>\n",
       "    </tr>\n",
       "    <tr>\n",
       "      <th>7</th>\n",
       "      <td>0.01%</td>\n",
       "      <td>0.403843</td>\n",
       "    </tr>\n",
       "    <tr>\n",
       "      <th>0</th>\n",
       "      <td>-0.0%</td>\n",
       "      <td>0.403269</td>\n",
       "    </tr>\n",
       "    <tr>\n",
       "      <th>6</th>\n",
       "      <td>0.0%</td>\n",
       "      <td>0.400734</td>\n",
       "    </tr>\n",
       "    <tr>\n",
       "      <th>8</th>\n",
       "      <td>0.02%</td>\n",
       "      <td>0.399834</td>\n",
       "    </tr>\n",
       "    <tr>\n",
       "      <th>1</th>\n",
       "      <td>-0.01%</td>\n",
       "      <td>0.397750</td>\n",
       "    </tr>\n",
       "    <tr>\n",
       "      <th>2</th>\n",
       "      <td>-0.02%</td>\n",
       "      <td>0.394100</td>\n",
       "    </tr>\n",
       "    <tr>\n",
       "      <th>3</th>\n",
       "      <td>-0.03%</td>\n",
       "      <td>0.383490</td>\n",
       "    </tr>\n",
       "    <tr>\n",
       "      <th>9</th>\n",
       "      <td>0.03%</td>\n",
       "      <td>0.383279</td>\n",
       "    </tr>\n",
       "    <tr>\n",
       "      <th>4</th>\n",
       "      <td>-0.04%</td>\n",
       "      <td>0.345455</td>\n",
       "    </tr>\n",
       "    <tr>\n",
       "      <th>10</th>\n",
       "      <td>0.04%</td>\n",
       "      <td>0.314286</td>\n",
       "    </tr>\n",
       "    <tr>\n",
       "      <th>5</th>\n",
       "      <td>-0.05%</td>\n",
       "      <td>0.000000</td>\n",
       "    </tr>\n",
       "  </tbody>\n",
       "</table>\n",
       "</div>"
      ],
      "text/plain": [
       "        x9         y\n",
       "11   0.05%  0.500000\n",
       "7    0.01%  0.403843\n",
       "0    -0.0%  0.403269\n",
       "6     0.0%  0.400734\n",
       "8    0.02%  0.399834\n",
       "1   -0.01%  0.397750\n",
       "2   -0.02%  0.394100\n",
       "3   -0.03%  0.383490\n",
       "9    0.03%  0.383279\n",
       "4   -0.04%  0.345455\n",
       "10   0.04%  0.314286\n",
       "5   -0.05%  0.000000"
      ]
     },
     "execution_count": 60,
     "metadata": {},
     "output_type": "execute_result"
    }
   ],
   "source": [
    "train_df[['x9', 'y']].groupby(['x9'], as_index=False).mean().sort_values(by='y', ascending=False)"
   ]
  },
  {
   "cell_type": "code",
   "execution_count": 61,
   "metadata": {},
   "outputs": [
    {
     "data": {
      "text/plain": [
       "<matplotlib.text.Text at 0x1277ef3c8>"
      ]
     },
     "execution_count": 61,
     "metadata": {},
     "output_type": "execute_result"
    },
    {
     "data": {
      "image/png": "[encoded data removed]",
      "text/plain": [
       "<matplotlib.figure.Figure at 0x126a7b2b0>"
      ]
     },
     "metadata": {},
     "output_type": "display_data"
    }
   ],
   "source": [
    "train_df.x9.value_counts().plot(kind='barh').set_title('x9 plot')"
   ]
  },
  {
   "cell_type": "code",
   "execution_count": 62,
   "metadata": {},
   "outputs": [
    {
     "data": {
      "text/plain": [
       "asia       138509\n",
       "america     12146\n",
       "euorpe       9309\n",
       "Name: x16, dtype: int64"
      ]
     },
     "execution_count": 62,
     "metadata": {},
     "output_type": "execute_result"
    }
   ],
   "source": [
    "train_df.x16.value_counts()"
   ]
  },
  {
   "cell_type": "code",
   "execution_count": 63,
   "metadata": {},
   "outputs": [
    {
     "data": {
      "text/html": [
       "<div>\n",
       "<table border=\"1\" class=\"dataframe\">\n",
       "  <thead>\n",
       "    <tr style=\"text-align: right;\">\n",
       "      <th></th>\n",
       "      <th>x16</th>\n",
       "      <th>y</th>\n",
       "    </tr>\n",
       "  </thead>\n",
       "  <tbody>\n",
       "    <tr>\n",
       "      <th>0</th>\n",
       "      <td>america</td>\n",
       "      <td>0.463939</td>\n",
       "    </tr>\n",
       "    <tr>\n",
       "      <th>2</th>\n",
       "      <td>euorpe</td>\n",
       "      <td>0.446772</td>\n",
       "    </tr>\n",
       "    <tr>\n",
       "      <th>1</th>\n",
       "      <td>asia</td>\n",
       "      <td>0.391917</td>\n",
       "    </tr>\n",
       "  </tbody>\n",
       "</table>\n",
       "</div>"
      ],
      "text/plain": [
       "       x16         y\n",
       "0  america  0.463939\n",
       "2   euorpe  0.446772\n",
       "1     asia  0.391917"
      ]
     },
     "execution_count": 63,
     "metadata": {},
     "output_type": "execute_result"
    }
   ],
   "source": [
    "train_df[['x16', 'y']].groupby(['x16'], as_index=False).mean().sort_values(by='y', ascending=False)"
   ]
  },
  {
   "cell_type": "code",
   "execution_count": 64,
   "metadata": {},
   "outputs": [
    {
     "data": {
      "text/plain": [
       "<matplotlib.text.Text at 0x1271a7518>"
      ]
     },
     "execution_count": 64,
     "metadata": {},
     "output_type": "execute_result"
    },
    {
     "data": {
      "image/png": "[encoded data removed]",
      "text/plain": [
       "<matplotlib.figure.Figure at 0x12696a4a8>"
      ]
     },
     "metadata": {},
     "output_type": "display_data"
    }
   ],
   "source": [
    "train_df.x16.value_counts().plot(kind='barh').set_title('x16 plot')"
   ]
  },
  {
   "cell_type": "code",
   "execution_count": 65,
   "metadata": {},
   "outputs": [
    {
     "data": {
      "text/plain": [
       "Jun        44659\n",
       "July       42410\n",
       "May        27535\n",
       "Aug        23909\n",
       "Apr         9945\n",
       "sept.       7522\n",
       "Mar         2030\n",
       "Oct         1508\n",
       "Feb          264\n",
       "Nov          160\n",
       "January       18\n",
       "Dev           11\n",
       "Name: x19, dtype: int64"
      ]
     },
     "execution_count": 65,
     "metadata": {},
     "output_type": "execute_result"
    }
   ],
   "source": [
    "train_df.x19.value_counts()"
   ]
  },
  {
   "cell_type": "code",
   "execution_count": 66,
   "metadata": {},
   "outputs": [
    {
     "data": {
      "text/html": [
       "<div>\n",
       "<table border=\"1\" class=\"dataframe\">\n",
       "  <thead>\n",
       "    <tr style=\"text-align: right;\">\n",
       "      <th></th>\n",
       "      <th>x19</th>\n",
       "      <th>y</th>\n",
       "    </tr>\n",
       "  </thead>\n",
       "  <tbody>\n",
       "    <tr>\n",
       "      <th>9</th>\n",
       "      <td>Nov</td>\n",
       "      <td>0.450000</td>\n",
       "    </tr>\n",
       "    <tr>\n",
       "      <th>6</th>\n",
       "      <td>Jun</td>\n",
       "      <td>0.403816</td>\n",
       "    </tr>\n",
       "    <tr>\n",
       "      <th>10</th>\n",
       "      <td>Oct</td>\n",
       "      <td>0.402520</td>\n",
       "    </tr>\n",
       "    <tr>\n",
       "      <th>8</th>\n",
       "      <td>May</td>\n",
       "      <td>0.400799</td>\n",
       "    </tr>\n",
       "    <tr>\n",
       "      <th>5</th>\n",
       "      <td>July</td>\n",
       "      <td>0.400307</td>\n",
       "    </tr>\n",
       "    <tr>\n",
       "      <th>1</th>\n",
       "      <td>Aug</td>\n",
       "      <td>0.399975</td>\n",
       "    </tr>\n",
       "    <tr>\n",
       "      <th>11</th>\n",
       "      <td>sept.</td>\n",
       "      <td>0.398697</td>\n",
       "    </tr>\n",
       "    <tr>\n",
       "      <th>0</th>\n",
       "      <td>Apr</td>\n",
       "      <td>0.394470</td>\n",
       "    </tr>\n",
       "    <tr>\n",
       "      <th>4</th>\n",
       "      <td>January</td>\n",
       "      <td>0.388889</td>\n",
       "    </tr>\n",
       "    <tr>\n",
       "      <th>3</th>\n",
       "      <td>Feb</td>\n",
       "      <td>0.375000</td>\n",
       "    </tr>\n",
       "    <tr>\n",
       "      <th>7</th>\n",
       "      <td>Mar</td>\n",
       "      <td>0.373399</td>\n",
       "    </tr>\n",
       "    <tr>\n",
       "      <th>2</th>\n",
       "      <td>Dev</td>\n",
       "      <td>0.363636</td>\n",
       "    </tr>\n",
       "  </tbody>\n",
       "</table>\n",
       "</div>"
      ],
      "text/plain": [
       "        x19         y\n",
       "9       Nov  0.450000\n",
       "6       Jun  0.403816\n",
       "10      Oct  0.402520\n",
       "8       May  0.400799\n",
       "5      July  0.400307\n",
       "1       Aug  0.399975\n",
       "11    sept.  0.398697\n",
       "0       Apr  0.394470\n",
       "4   January  0.388889\n",
       "3       Feb  0.375000\n",
       "7       Mar  0.373399\n",
       "2       Dev  0.363636"
      ]
     },
     "execution_count": 66,
     "metadata": {},
     "output_type": "execute_result"
    }
   ],
   "source": [
    "train_df[['x19', 'y']].groupby(['x19'], as_index=False).mean().sort_values(by='y', ascending=False)"
   ]
  },
  {
   "cell_type": "code",
   "execution_count": 67,
   "metadata": {},
   "outputs": [
    {
     "data": {
      "text/plain": [
       "<matplotlib.text.Text at 0x1275c4278>"
      ]
     },
     "execution_count": 67,
     "metadata": {},
     "output_type": "execute_result"
    },
    {
     "data": {
      "image/png": "[encoded data removed]",
      "text/plain": [
       "<matplotlib.figure.Figure at 0x127432be0>"
      ]
     },
     "metadata": {},
     "output_type": "display_data"
    }
   ],
   "source": [
    "train_df.x19.value_counts().plot(kind='barh').set_title('x19 plot')"
   ]
  },
  {
   "cell_type": "code",
   "execution_count": 68,
   "metadata": {},
   "outputs": [
    {
     "data": {
      "text/plain": [
       "wednesday    101016\n",
       "thurday       31969\n",
       "tuesday       25955\n",
       "friday          562\n",
       "monday          471\n",
       "Name: x43, dtype: int64"
      ]
     },
     "execution_count": 68,
     "metadata": {},
     "output_type": "execute_result"
    }
   ],
   "source": [
    "train_df.x43.value_counts()"
   ]
  },
  {
   "cell_type": "code",
   "execution_count": 69,
   "metadata": {},
   "outputs": [
    {
     "data": {
      "text/html": [
       "<div>\n",
       "<table border=\"1\" class=\"dataframe\">\n",
       "  <thead>\n",
       "    <tr style=\"text-align: right;\">\n",
       "      <th></th>\n",
       "      <th>x43</th>\n",
       "      <th>y</th>\n",
       "    </tr>\n",
       "  </thead>\n",
       "  <tbody>\n",
       "    <tr>\n",
       "      <th>4</th>\n",
       "      <td>wednesday</td>\n",
       "      <td>0.420785</td>\n",
       "    </tr>\n",
       "    <tr>\n",
       "      <th>2</th>\n",
       "      <td>thurday</td>\n",
       "      <td>0.374050</td>\n",
       "    </tr>\n",
       "    <tr>\n",
       "      <th>3</th>\n",
       "      <td>tuesday</td>\n",
       "      <td>0.362743</td>\n",
       "    </tr>\n",
       "    <tr>\n",
       "      <th>1</th>\n",
       "      <td>monday</td>\n",
       "      <td>0.201699</td>\n",
       "    </tr>\n",
       "    <tr>\n",
       "      <th>0</th>\n",
       "      <td>friday</td>\n",
       "      <td>0.183274</td>\n",
       "    </tr>\n",
       "  </tbody>\n",
       "</table>\n",
       "</div>"
      ],
      "text/plain": [
       "         x43         y\n",
       "4  wednesday  0.420785\n",
       "2    thurday  0.374050\n",
       "3    tuesday  0.362743\n",
       "1     monday  0.201699\n",
       "0     friday  0.183274"
      ]
     },
     "execution_count": 69,
     "metadata": {},
     "output_type": "execute_result"
    }
   ],
   "source": [
    "train_df[['x43', 'y']].groupby(['x43'], as_index=False).mean().sort_values(by='y', ascending=False)"
   ]
  },
  {
   "cell_type": "code",
   "execution_count": 70,
   "metadata": {},
   "outputs": [
    {
     "data": {
      "text/plain": [
       "<matplotlib.text.Text at 0x1276995f8>"
      ]
     },
     "execution_count": 70,
     "metadata": {},
     "output_type": "execute_result"
    },
    {
     "data": {
      "image/png": "[encoded data removed]",
      "text/plain": [
       "<matplotlib.figure.Figure at 0x127621e10>"
      ]
     },
     "metadata": {},
     "output_type": "display_data"
    }
   ],
   "source": [
    "train_df.x43.value_counts().plot(kind='barh').set_title('x43 plot')"
   ]
  },
  {
   "cell_type": "code",
   "execution_count": 71,
   "metadata": {},
   "outputs": [
    {
     "data": {
      "text/plain": [
       "$245.6       6\n",
       "$48.84       6\n",
       "$-41.44      6\n",
       "$505.4       6\n",
       "$367.28      6\n",
       "$768.74      6\n",
       "$-370.58     6\n",
       "$207.33      6\n",
       "$177.66      5\n",
       "$880.66      5\n",
       "$-21.07      5\n",
       "$-119.46     5\n",
       "$-335.44     5\n",
       "$-893.78     5\n",
       "$403.01      5\n",
       "$230.26      5\n",
       "$-374.82     5\n",
       "$190.29      5\n",
       "$639.27      5\n",
       "$-144.78     5\n",
       "$113.3       5\n",
       "$-359.09     5\n",
       "$472.74      5\n",
       "$-114.92     5\n",
       "$658.93      5\n",
       "$134.6       5\n",
       "$76.67       5\n",
       "$282.55      5\n",
       "$-46.88      5\n",
       "$1092.4      5\n",
       "            ..\n",
       "$-1734.23    1\n",
       "$1632.33     1\n",
       "$-683.74     1\n",
       "$-341.5      1\n",
       "$1152.6      1\n",
       "$-39.81      1\n",
       "$877.34      1\n",
       "$369.66      1\n",
       "$720.98      1\n",
       "$-186.77     1\n",
       "$-130.45     1\n",
       "$857.72      1\n",
       "$-1192.99    1\n",
       "$1226.07     1\n",
       "$947.41      1\n",
       "$-635.98     1\n",
       "$575.23      1\n",
       "$1659.27     1\n",
       "$-607.38     1\n",
       "$-1155.39    1\n",
       "$1476.82     1\n",
       "$1015.96     1\n",
       "$3075.04     1\n",
       "$1688.66     1\n",
       "$170.59      1\n",
       "$626.21      1\n",
       "$2689.59     1\n",
       "$1561.11     1\n",
       "$-1537.71    1\n",
       "$1741.11     1\n",
       "Name: x44, dtype: int64"
      ]
     },
     "execution_count": 71,
     "metadata": {},
     "output_type": "execute_result"
    }
   ],
   "source": [
    "train_df.x44.value_counts()"
   ]
  },
  {
   "cell_type": "code",
   "execution_count": 72,
   "metadata": {},
   "outputs": [
    {
     "data": {
      "text/html": [
       "<div>\n",
       "<table border=\"1\" class=\"dataframe\">\n",
       "  <thead>\n",
       "    <tr style=\"text-align: right;\">\n",
       "      <th></th>\n",
       "      <th>x44</th>\n",
       "      <th>y</th>\n",
       "    </tr>\n",
       "  </thead>\n",
       "  <tbody>\n",
       "    <tr>\n",
       "      <th>0</th>\n",
       "      <td>$-0.01</td>\n",
       "      <td>1.0</td>\n",
       "    </tr>\n",
       "    <tr>\n",
       "      <th>65948</th>\n",
       "      <td>$1029.52</td>\n",
       "      <td>1.0</td>\n",
       "    </tr>\n",
       "    <tr>\n",
       "      <th>65875</th>\n",
       "      <td>$1027.44</td>\n",
       "      <td>1.0</td>\n",
       "    </tr>\n",
       "    <tr>\n",
       "      <th>65876</th>\n",
       "      <td>$1027.49</td>\n",
       "      <td>1.0</td>\n",
       "    </tr>\n",
       "    <tr>\n",
       "      <th>65878</th>\n",
       "      <td>$1027.52</td>\n",
       "      <td>1.0</td>\n",
       "    </tr>\n",
       "    <tr>\n",
       "      <th>65881</th>\n",
       "      <td>$1027.66</td>\n",
       "      <td>1.0</td>\n",
       "    </tr>\n",
       "    <tr>\n",
       "      <th>65882</th>\n",
       "      <td>$1027.67</td>\n",
       "      <td>1.0</td>\n",
       "    </tr>\n",
       "    <tr>\n",
       "      <th>65890</th>\n",
       "      <td>$1027.83</td>\n",
       "      <td>1.0</td>\n",
       "    </tr>\n",
       "    <tr>\n",
       "      <th>65893</th>\n",
       "      <td>$1027.9</td>\n",
       "      <td>1.0</td>\n",
       "    </tr>\n",
       "    <tr>\n",
       "      <th>65894</th>\n",
       "      <td>$1027.95</td>\n",
       "      <td>1.0</td>\n",
       "    </tr>\n",
       "    <tr>\n",
       "      <th>65895</th>\n",
       "      <td>$1027.96</td>\n",
       "      <td>1.0</td>\n",
       "    </tr>\n",
       "    <tr>\n",
       "      <th>65896</th>\n",
       "      <td>$1028.04</td>\n",
       "      <td>1.0</td>\n",
       "    </tr>\n",
       "    <tr>\n",
       "      <th>65899</th>\n",
       "      <td>$1028.11</td>\n",
       "      <td>1.0</td>\n",
       "    </tr>\n",
       "    <tr>\n",
       "      <th>65900</th>\n",
       "      <td>$1028.12</td>\n",
       "      <td>1.0</td>\n",
       "    </tr>\n",
       "    <tr>\n",
       "      <th>65902</th>\n",
       "      <td>$1028.21</td>\n",
       "      <td>1.0</td>\n",
       "    </tr>\n",
       "    <tr>\n",
       "      <th>65907</th>\n",
       "      <td>$1028.33</td>\n",
       "      <td>1.0</td>\n",
       "    </tr>\n",
       "    <tr>\n",
       "      <th>65909</th>\n",
       "      <td>$1028.37</td>\n",
       "      <td>1.0</td>\n",
       "    </tr>\n",
       "    <tr>\n",
       "      <th>65914</th>\n",
       "      <td>$1028.64</td>\n",
       "      <td>1.0</td>\n",
       "    </tr>\n",
       "    <tr>\n",
       "      <th>65915</th>\n",
       "      <td>$1028.65</td>\n",
       "      <td>1.0</td>\n",
       "    </tr>\n",
       "    <tr>\n",
       "      <th>65918</th>\n",
       "      <td>$1028.7</td>\n",
       "      <td>1.0</td>\n",
       "    </tr>\n",
       "    <tr>\n",
       "      <th>65922</th>\n",
       "      <td>$1028.79</td>\n",
       "      <td>1.0</td>\n",
       "    </tr>\n",
       "    <tr>\n",
       "      <th>65925</th>\n",
       "      <td>$1028.85</td>\n",
       "      <td>1.0</td>\n",
       "    </tr>\n",
       "    <tr>\n",
       "      <th>65928</th>\n",
       "      <td>$1028.91</td>\n",
       "      <td>1.0</td>\n",
       "    </tr>\n",
       "    <tr>\n",
       "      <th>65931</th>\n",
       "      <td>$1029.0</td>\n",
       "      <td>1.0</td>\n",
       "    </tr>\n",
       "    <tr>\n",
       "      <th>65932</th>\n",
       "      <td>$1029.02</td>\n",
       "      <td>1.0</td>\n",
       "    </tr>\n",
       "    <tr>\n",
       "      <th>65933</th>\n",
       "      <td>$1029.03</td>\n",
       "      <td>1.0</td>\n",
       "    </tr>\n",
       "    <tr>\n",
       "      <th>65934</th>\n",
       "      <td>$1029.06</td>\n",
       "      <td>1.0</td>\n",
       "    </tr>\n",
       "    <tr>\n",
       "      <th>65936</th>\n",
       "      <td>$1029.08</td>\n",
       "      <td>1.0</td>\n",
       "    </tr>\n",
       "    <tr>\n",
       "      <th>65939</th>\n",
       "      <td>$1029.19</td>\n",
       "      <td>1.0</td>\n",
       "    </tr>\n",
       "    <tr>\n",
       "      <th>65943</th>\n",
       "      <td>$1029.29</td>\n",
       "      <td>1.0</td>\n",
       "    </tr>\n",
       "    <tr>\n",
       "      <th>...</th>\n",
       "      <td>...</td>\n",
       "      <td>...</td>\n",
       "    </tr>\n",
       "    <tr>\n",
       "      <th>70817</th>\n",
       "      <td>$1169.82</td>\n",
       "      <td>0.0</td>\n",
       "    </tr>\n",
       "    <tr>\n",
       "      <th>70814</th>\n",
       "      <td>$1169.76</td>\n",
       "      <td>0.0</td>\n",
       "    </tr>\n",
       "    <tr>\n",
       "      <th>20465</th>\n",
       "      <td>$-1741.53</td>\n",
       "      <td>0.0</td>\n",
       "    </tr>\n",
       "    <tr>\n",
       "      <th>70813</th>\n",
       "      <td>$1169.74</td>\n",
       "      <td>0.0</td>\n",
       "    </tr>\n",
       "    <tr>\n",
       "      <th>70811</th>\n",
       "      <td>$1169.69</td>\n",
       "      <td>0.0</td>\n",
       "    </tr>\n",
       "    <tr>\n",
       "      <th>70810</th>\n",
       "      <td>$1169.67</td>\n",
       "      <td>0.0</td>\n",
       "    </tr>\n",
       "    <tr>\n",
       "      <th>70809</th>\n",
       "      <td>$1169.6</td>\n",
       "      <td>0.0</td>\n",
       "    </tr>\n",
       "    <tr>\n",
       "      <th>70808</th>\n",
       "      <td>$1169.58</td>\n",
       "      <td>0.0</td>\n",
       "    </tr>\n",
       "    <tr>\n",
       "      <th>70807</th>\n",
       "      <td>$1169.45</td>\n",
       "      <td>0.0</td>\n",
       "    </tr>\n",
       "    <tr>\n",
       "      <th>20479</th>\n",
       "      <td>$-1742.65</td>\n",
       "      <td>0.0</td>\n",
       "    </tr>\n",
       "    <tr>\n",
       "      <th>70825</th>\n",
       "      <td>$1169.97</td>\n",
       "      <td>0.0</td>\n",
       "    </tr>\n",
       "    <tr>\n",
       "      <th>70827</th>\n",
       "      <td>$117.0</td>\n",
       "      <td>0.0</td>\n",
       "    </tr>\n",
       "    <tr>\n",
       "      <th>70828</th>\n",
       "      <td>$117.03</td>\n",
       "      <td>0.0</td>\n",
       "    </tr>\n",
       "    <tr>\n",
       "      <th>70829</th>\n",
       "      <td>$117.05</td>\n",
       "      <td>0.0</td>\n",
       "    </tr>\n",
       "    <tr>\n",
       "      <th>20466</th>\n",
       "      <td>$-1741.55</td>\n",
       "      <td>0.0</td>\n",
       "    </tr>\n",
       "    <tr>\n",
       "      <th>70847</th>\n",
       "      <td>$117.45</td>\n",
       "      <td>0.0</td>\n",
       "    </tr>\n",
       "    <tr>\n",
       "      <th>20468</th>\n",
       "      <td>$-1741.58</td>\n",
       "      <td>0.0</td>\n",
       "    </tr>\n",
       "    <tr>\n",
       "      <th>70845</th>\n",
       "      <td>$117.37</td>\n",
       "      <td>0.0</td>\n",
       "    </tr>\n",
       "    <tr>\n",
       "      <th>20469</th>\n",
       "      <td>$-1741.6</td>\n",
       "      <td>0.0</td>\n",
       "    </tr>\n",
       "    <tr>\n",
       "      <th>70843</th>\n",
       "      <td>$117.31</td>\n",
       "      <td>0.0</td>\n",
       "    </tr>\n",
       "    <tr>\n",
       "      <th>70842</th>\n",
       "      <td>$117.3</td>\n",
       "      <td>0.0</td>\n",
       "    </tr>\n",
       "    <tr>\n",
       "      <th>70840</th>\n",
       "      <td>$117.28</td>\n",
       "      <td>0.0</td>\n",
       "    </tr>\n",
       "    <tr>\n",
       "      <th>70839</th>\n",
       "      <td>$117.25</td>\n",
       "      <td>0.0</td>\n",
       "    </tr>\n",
       "    <tr>\n",
       "      <th>70837</th>\n",
       "      <td>$117.21</td>\n",
       "      <td>0.0</td>\n",
       "    </tr>\n",
       "    <tr>\n",
       "      <th>70836</th>\n",
       "      <td>$117.18</td>\n",
       "      <td>0.0</td>\n",
       "    </tr>\n",
       "    <tr>\n",
       "      <th>20471</th>\n",
       "      <td>$-1741.97</td>\n",
       "      <td>0.0</td>\n",
       "    </tr>\n",
       "    <tr>\n",
       "      <th>70833</th>\n",
       "      <td>$117.11</td>\n",
       "      <td>0.0</td>\n",
       "    </tr>\n",
       "    <tr>\n",
       "      <th>70831</th>\n",
       "      <td>$117.08</td>\n",
       "      <td>0.0</td>\n",
       "    </tr>\n",
       "    <tr>\n",
       "      <th>70830</th>\n",
       "      <td>$117.06</td>\n",
       "      <td>0.0</td>\n",
       "    </tr>\n",
       "    <tr>\n",
       "      <th>129467</th>\n",
       "      <td>$999.99</td>\n",
       "      <td>0.0</td>\n",
       "    </tr>\n",
       "  </tbody>\n",
       "</table>\n",
       "<p>129468 rows × 2 columns</p>\n",
       "</div>"
      ],
      "text/plain": [
       "              x44    y\n",
       "0          $-0.01  1.0\n",
       "65948    $1029.52  1.0\n",
       "65875    $1027.44  1.0\n",
       "65876    $1027.49  1.0\n",
       "65878    $1027.52  1.0\n",
       "65881    $1027.66  1.0\n",
       "65882    $1027.67  1.0\n",
       "65890    $1027.83  1.0\n",
       "65893     $1027.9  1.0\n",
       "65894    $1027.95  1.0\n",
       "65895    $1027.96  1.0\n",
       "65896    $1028.04  1.0\n",
       "65899    $1028.11  1.0\n",
       "65900    $1028.12  1.0\n",
       "65902    $1028.21  1.0\n",
       "65907    $1028.33  1.0\n",
       "65909    $1028.37  1.0\n",
       "65914    $1028.64  1.0\n",
       "65915    $1028.65  1.0\n",
       "65918     $1028.7  1.0\n",
       "65922    $1028.79  1.0\n",
       "65925    $1028.85  1.0\n",
       "65928    $1028.91  1.0\n",
       "65931     $1029.0  1.0\n",
       "65932    $1029.02  1.0\n",
       "65933    $1029.03  1.0\n",
       "65934    $1029.06  1.0\n",
       "65936    $1029.08  1.0\n",
       "65939    $1029.19  1.0\n",
       "65943    $1029.29  1.0\n",
       "...           ...  ...\n",
       "70817    $1169.82  0.0\n",
       "70814    $1169.76  0.0\n",
       "20465   $-1741.53  0.0\n",
       "70813    $1169.74  0.0\n",
       "70811    $1169.69  0.0\n",
       "70810    $1169.67  0.0\n",
       "70809     $1169.6  0.0\n",
       "70808    $1169.58  0.0\n",
       "70807    $1169.45  0.0\n",
       "20479   $-1742.65  0.0\n",
       "70825    $1169.97  0.0\n",
       "70827      $117.0  0.0\n",
       "70828     $117.03  0.0\n",
       "70829     $117.05  0.0\n",
       "20466   $-1741.55  0.0\n",
       "70847     $117.45  0.0\n",
       "20468   $-1741.58  0.0\n",
       "70845     $117.37  0.0\n",
       "20469    $-1741.6  0.0\n",
       "70843     $117.31  0.0\n",
       "70842      $117.3  0.0\n",
       "70840     $117.28  0.0\n",
       "70839     $117.25  0.0\n",
       "70837     $117.21  0.0\n",
       "70836     $117.18  0.0\n",
       "20471   $-1741.97  0.0\n",
       "70833     $117.11  0.0\n",
       "70831     $117.08  0.0\n",
       "70830     $117.06  0.0\n",
       "129467    $999.99  0.0\n",
       "\n",
       "[129468 rows x 2 columns]"
      ]
     },
     "execution_count": 72,
     "metadata": {},
     "output_type": "execute_result"
    }
   ],
   "source": [
    "train_df[['x44', 'y']].groupby(['x44'], as_index=False).mean().sort_values(by='y', ascending=False)"
   ]
  },
  {
   "cell_type": "code",
   "execution_count": 91,
   "metadata": {},
   "outputs": [
    {
     "data": {
      "text/plain": [
       "<matplotlib.text.Text at 0x11139e278>"
      ]
     },
     "execution_count": 91,
     "metadata": {},
     "output_type": "execute_result"
    },
    {
     "data": {
      "image/png": "[encoded data removed]",
      "text/plain": [
       "<matplotlib.figure.Figure at 0x11b8a1668>"
      ]
     },
     "metadata": {},
     "output_type": "display_data"
    }
   ],
   "source": [
    "train_df.x44.hist(bins=10).set_title('x44 plot')"
   ]
  },
  {
   "cell_type": "code",
   "execution_count": 74,
   "metadata": {},
   "outputs": [
    {
     "data": {
      "text/plain": [
       "x0     36\n",
       "x1     27\n",
       "x2     27\n",
       "x3     37\n",
       "x4     31\n",
       "x5     29\n",
       "x6     27\n",
       "x7     26\n",
       "x8     35\n",
       "x9     34\n",
       "x10    38\n",
       "x11    37\n",
       "x12    36\n",
       "x13    37\n",
       "x14    33\n",
       "x15    21\n",
       "x16    36\n",
       "x17    37\n",
       "x18    31\n",
       "x19    29\n",
       "x20    37\n",
       "x21    40\n",
       "x22    22\n",
       "x23    31\n",
       "x24    26\n",
       "x25    35\n",
       "x26    27\n",
       "x27    31\n",
       "x28    28\n",
       "x29    32\n",
       "x30    30\n",
       "x31    38\n",
       "x32    31\n",
       "x33    23\n",
       "x34    43\n",
       "x35    36\n",
       "x36    34\n",
       "x37    42\n",
       "x38    40\n",
       "x39    48\n",
       "x40    31\n",
       "x41    20\n",
       "x42    35\n",
       "x43    27\n",
       "x44    39\n",
       "x45    28\n",
       "x46    26\n",
       "x47    30\n",
       "x48    26\n",
       "x49    26\n",
       "y       0\n",
       "dtype: int64"
      ]
     },
     "execution_count": 74,
     "metadata": {},
     "output_type": "execute_result"
    }
   ],
   "source": [
    "# Checking missing values in the training dataframe\n",
    "train_df.isnull().sum()"
   ]
  },
  {
   "cell_type": "code",
   "execution_count": 75,
   "metadata": {},
   "outputs": [
    {
     "data": {
      "text/plain": [
       "x0      9\n",
       "x1     12\n",
       "x2      5\n",
       "x3     10\n",
       "x4      5\n",
       "x5     10\n",
       "x6      8\n",
       "x7      6\n",
       "x8     10\n",
       "x9      3\n",
       "x10     6\n",
       "x11     6\n",
       "x12     7\n",
       "x13     7\n",
       "x14    12\n",
       "x15     6\n",
       "x16    11\n",
       "x17    12\n",
       "x18    10\n",
       "x19     6\n",
       "x20     6\n",
       "x21     8\n",
       "x22     5\n",
       "x23     4\n",
       "x24    11\n",
       "x25     7\n",
       "x26    10\n",
       "x27    12\n",
       "x28     9\n",
       "x29    13\n",
       "x30     8\n",
       "x31     7\n",
       "x32    10\n",
       "x33     7\n",
       "x34     6\n",
       "x35    10\n",
       "x36     6\n",
       "x37     9\n",
       "x38     8\n",
       "x39     5\n",
       "x40     4\n",
       "x41     8\n",
       "x42     8\n",
       "x43     7\n",
       "x44    10\n",
       "x45     8\n",
       "x46     7\n",
       "x47     7\n",
       "x48     6\n",
       "x49     7\n",
       "dtype: int64"
      ]
     },
     "execution_count": 75,
     "metadata": {},
     "output_type": "execute_result"
    }
   ],
   "source": [
    "# Checking missing values in the testing dataframe\n",
    "test_df.isnull().sum()"
   ]
  },
  {
   "cell_type": "markdown",
   "metadata": {},
   "source": [
    "### Cleaning & Preparing the Data"
   ]
  },
  {
   "cell_type": "markdown",
   "metadata": {},
   "source": [
    "- Taking out the Target series from training dataset into a new DataFrame\n",
    "- x9 and x44 features appears to have special characters ('%', '$') in the data, which could be removed and converted them from a string to float\n",
    "- Handling NaNs with different methods for x9 and x44\n",
    "- Handling NaNs with their respective mean for all the continous features that have missing values\n",
    "- Converting categorical data into dummies by applying one-hot-encoding technique "
   ]
  },
  {
   "cell_type": "code",
   "execution_count": 76,
   "metadata": {
    "collapsed": true
   },
   "outputs": [],
   "source": [
    "# Creating Target variable dataframe\n",
    "y = train_df.pop('y')"
   ]
  },
  {
   "cell_type": "code",
   "execution_count": 77,
   "metadata": {
    "collapsed": true
   },
   "outputs": [],
   "source": [
    "# Creating a loop to replace special characters\n",
    "for dataset in combined:\n",
    "    dataset['x44'] = dataset['x44'].str.replace('$','').astype(float)\n",
    "    dataset['x9'] = dataset['x9'].str.replace('%','').astype(float)"
   ]
  },
  {
   "cell_type": "code",
   "execution_count": 78,
   "metadata": {
    "collapsed": true
   },
   "outputs": [],
   "source": [
    "# Creating a loop to fill missing values with methods\n",
    "for dataset in combined:\n",
    "    dataset['x9'].fillna(method='ffill', inplace=True)\n",
    "    dataset['x44'].interpolate(method='linear', inplace=True)"
   ]
  },
  {
   "cell_type": "code",
   "execution_count": 79,
   "metadata": {
    "collapsed": true
   },
   "outputs": [],
   "source": [
    "# Filling missing values for all the continous features with their respective means\n",
    "missing_variables = ['x0', 'x1', 'x2', 'x3', 'x4', 'x5', 'x6', 'x7', 'x8', 'x10', 'x11', 'x12',\n",
    "                     'x13', 'x14', 'x15', 'x17', 'x18', 'x20', 'x21', 'x22', 'x23', 'x24', 'x25', 'x26',\n",
    "                     'x27', 'x28', 'x29', 'x30', 'x31', 'x32', 'x33', 'x34', 'x35', 'x36', 'x37', 'x38',\n",
    "                     'x39', 'x40', 'x41', 'x42', 'x45', 'x46', 'x47', 'x48', 'x49']\n",
    "for variable in missing_variables:\n",
    "    train_df[variable].fillna(train_df[variable].mean(), inplace=True)\n",
    "    test_df[variable].fillna(test_df[variable].mean(), inplace=True)"
   ]
  },
  {
   "cell_type": "code",
   "execution_count": 80,
   "metadata": {
    "collapsed": true
   },
   "outputs": [],
   "source": [
    "# Converting categorical data into dummy variables\n",
    "categorical_variables = ['x16', 'x43']\n",
    "    \n",
    "for variable in categorical_variables:\n",
    "    train_df[variable].fillna(value=\"missing\", inplace=True)\n",
    "    dummies = pd.get_dummies(train_df[variable], prefix=None)\n",
    "    train_df = pd.concat([train_df, dummies], axis=1)\n",
    "    train_df.drop([variable], axis=1, inplace=True)\n",
    "    train_df.drop(['missing'], axis=1, inplace=True)\n",
    "\n",
    "for variable in categorical_variables:\n",
    "    test_df[variable].fillna(value=\"missing\", inplace=True)\n",
    "    dummies = pd.get_dummies(test_df[variable], prefix=None)\n",
    "    test_df = pd.concat([test_df, dummies], axis=1)\n",
    "    test_df.drop([variable], axis=1, inplace=True)\n",
    "    test_df.drop(['missing'], axis=1, inplace=True)"
   ]
  },
  {
   "cell_type": "code",
   "execution_count": 81,
   "metadata": {
    "collapsed": true
   },
   "outputs": [],
   "source": [
    "# Converting ordinal data into dummy variables\n",
    "\n",
    "# dummy_train = pd.get_dummies(train_df['x9'], prefix='x9')\n",
    "# train_df = pd.concat([train_df, dummy_train], axis=1)\n",
    "# train_df.drop(['x9'], axis=1, inplace=True)\n",
    "\n",
    "# dummy_test = pd.get_dummies(test_df['x9'], prefix='x9')\n",
    "# test_df = pd.concat([test_df, dummy_test], axis=1)\n",
    "# test_df.drop(['x9'], axis=1, inplace=True)"
   ]
  },
  {
   "cell_type": "code",
   "execution_count": 82,
   "metadata": {
    "collapsed": true
   },
   "outputs": [],
   "source": [
    "# Converting ordinal data into dummy variables\n",
    "for dataset in combined:\n",
    "    dataset.loc[(dataset['x9'] <= -0.01) & (dataset['x9'] <= -0.05), 'x9'] = 0\n",
    "    dataset.loc[dataset['x9'] == 0.00, 'x9'] = 1\n",
    "    dataset.loc[(dataset['x9'] >= 0.01) & (dataset['x9'] <= 0.05), 'x9'] = 2\n",
    "    dataset['x9'] = dataset['x9'].astype(int)"
   ]
  },
  {
   "cell_type": "code",
   "execution_count": 83,
   "metadata": {},
   "outputs": [
    {
     "data": {
      "text/plain": [
       "x0            0\n",
       "x1            0\n",
       "x2            0\n",
       "x3            0\n",
       "x4            0\n",
       "x5            0\n",
       "x6            0\n",
       "x7            0\n",
       "x8            0\n",
       "x9            0\n",
       "x10           0\n",
       "x11           0\n",
       "x12           0\n",
       "x13           0\n",
       "x14           0\n",
       "x15           0\n",
       "x17           0\n",
       "x18           0\n",
       "x19          29\n",
       "x20           0\n",
       "x21           0\n",
       "x22           0\n",
       "x23           0\n",
       "x24           0\n",
       "x25           0\n",
       "x26           0\n",
       "x27           0\n",
       "x28           0\n",
       "x29           0\n",
       "x30           0\n",
       "x31           0\n",
       "x32           0\n",
       "x33           0\n",
       "x34           0\n",
       "x35           0\n",
       "x36           0\n",
       "x37           0\n",
       "x38           0\n",
       "x39           0\n",
       "x40           0\n",
       "x41           0\n",
       "x42           0\n",
       "x44           0\n",
       "x45           0\n",
       "x46           0\n",
       "x47           0\n",
       "x48           0\n",
       "x49           0\n",
       "america       0\n",
       "asia          0\n",
       "euorpe        0\n",
       "friday        0\n",
       "monday        0\n",
       "thurday       0\n",
       "tuesday       0\n",
       "wednesday     0\n",
       "dtype: int64"
      ]
     },
     "execution_count": 83,
     "metadata": {},
     "output_type": "execute_result"
    }
   ],
   "source": [
    "# Ensuring there are no missing values in the training dataframe\n",
    "train_df.isnull().sum()"
   ]
  },
  {
   "cell_type": "code",
   "execution_count": 84,
   "metadata": {},
   "outputs": [
    {
     "data": {
      "text/plain": [
       "x0           0\n",
       "x1           0\n",
       "x2           0\n",
       "x3           0\n",
       "x4           0\n",
       "x5           0\n",
       "x6           0\n",
       "x7           0\n",
       "x8           0\n",
       "x9           0\n",
       "x10          0\n",
       "x11          0\n",
       "x12          0\n",
       "x13          0\n",
       "x14          0\n",
       "x15          0\n",
       "x17          0\n",
       "x18          0\n",
       "x19          6\n",
       "x20          0\n",
       "x21          0\n",
       "x22          0\n",
       "x23          0\n",
       "x24          0\n",
       "x25          0\n",
       "x26          0\n",
       "x27          0\n",
       "x28          0\n",
       "x29          0\n",
       "x30          0\n",
       "x31          0\n",
       "x32          0\n",
       "x33          0\n",
       "x34          0\n",
       "x35          0\n",
       "x36          0\n",
       "x37          0\n",
       "x38          0\n",
       "x39          0\n",
       "x40          0\n",
       "x41          0\n",
       "x42          0\n",
       "x44          0\n",
       "x45          0\n",
       "x46          0\n",
       "x47          0\n",
       "x48          0\n",
       "x49          0\n",
       "america      0\n",
       "asia         0\n",
       "euorpe       0\n",
       "friday       0\n",
       "monday       0\n",
       "thurday      0\n",
       "tuesday      0\n",
       "wednesday    0\n",
       "dtype: int64"
      ]
     },
     "execution_count": 84,
     "metadata": {},
     "output_type": "execute_result"
    }
   ],
   "source": [
    "# Ensuring there are no missing values in the testing dataframe\n",
    "test_df.isnull().sum()"
   ]
  },
  {
   "cell_type": "code",
   "execution_count": 85,
   "metadata": {
    "collapsed": true
   },
   "outputs": [],
   "source": [
    "# Dropping out the complex and invaluable features \n",
    "train_df.drop(['x19', 'x10', 'x21', 'x38', 'x40', 'x29', 'x42', 'x11', 'x48', 'x18', 'x30', 'x23', 'x39', 'x25', 'x49', 'x6', 'x32', 'x35', 'x17', 'x22', 'x41', 'x36', 'x27', 'x7', 'x4', 'x28', 'x2', 'x15', 'x20', 'x12'], axis=1, inplace=True)\n",
    "test_df.drop(['x19', 'x10', 'x21', 'x38', 'x40', 'x29', 'x42', 'x11', 'x48', 'x18', 'x30', 'x23', 'x39', 'x25', 'x49', 'x6', 'x32', 'x35', 'x17', 'x22', 'x41', 'x36', 'x27', 'x7', 'x4', 'x28', 'x2', 'x15', 'x20', 'x12'], axis=1, inplace=True)"
   ]
  },
  {
   "cell_type": "code",
   "execution_count": 86,
   "metadata": {
    "collapsed": true
   },
   "outputs": [],
   "source": [
    "# Creating a function to display all features in a dataframe without compression\n",
    "def printall(x, max_rows=10):\n",
    "    from IPython.display import display, HTML\n",
    "    display(HTML(x.to_html(max_rows=max_rows)))"
   ]
  },
  {
   "cell_type": "code",
   "execution_count": 87,
   "metadata": {},
   "outputs": [
    {
     "data": {
      "text/html": [
       "<table border=\"1\" class=\"dataframe\">\n",
       "  <thead>\n",
       "    <tr style=\"text-align: right;\">\n",
       "      <th></th>\n",
       "      <th>x0</th>\n",
       "      <th>x1</th>\n",
       "      <th>x3</th>\n",
       "      <th>x5</th>\n",
       "      <th>x8</th>\n",
       "      <th>x9</th>\n",
       "      <th>x13</th>\n",
       "      <th>x14</th>\n",
       "      <th>x24</th>\n",
       "      <th>x26</th>\n",
       "      <th>x31</th>\n",
       "      <th>x33</th>\n",
       "      <th>x34</th>\n",
       "      <th>x37</th>\n",
       "      <th>x44</th>\n",
       "      <th>x45</th>\n",
       "      <th>x46</th>\n",
       "      <th>x47</th>\n",
       "      <th>america</th>\n",
       "      <th>asia</th>\n",
       "      <th>euorpe</th>\n",
       "      <th>friday</th>\n",
       "      <th>monday</th>\n",
       "      <th>thurday</th>\n",
       "      <th>tuesday</th>\n",
       "      <th>wednesday</th>\n",
       "    </tr>\n",
       "  </thead>\n",
       "  <tbody>\n",
       "    <tr>\n",
       "      <th>0</th>\n",
       "      <td>-5.900707</td>\n",
       "      <td>0.469389</td>\n",
       "      <td>9.223027</td>\n",
       "      <td>0.024669</td>\n",
       "      <td>3.004170</td>\n",
       "      <td>0.02</td>\n",
       "      <td>-17.658996</td>\n",
       "      <td>-19.322599</td>\n",
       "      <td>-14.103989</td>\n",
       "      <td>5.481989</td>\n",
       "      <td>3.762529</td>\n",
       "      <td>-6.727415</td>\n",
       "      <td>-10.732802</td>\n",
       "      <td>-32.680226</td>\n",
       "      <td>-180.16</td>\n",
       "      <td>1.236134</td>\n",
       "      <td>4.462951</td>\n",
       "      <td>4.592803</td>\n",
       "      <td>0</td>\n",
       "      <td>1</td>\n",
       "      <td>0</td>\n",
       "      <td>0</td>\n",
       "      <td>0</td>\n",
       "      <td>0</td>\n",
       "      <td>0</td>\n",
       "      <td>1</td>\n",
       "    </tr>\n",
       "    <tr>\n",
       "      <th>1</th>\n",
       "      <td>-3.530391</td>\n",
       "      <td>4.229818</td>\n",
       "      <td>2.154913</td>\n",
       "      <td>-1.955667</td>\n",
       "      <td>14.941269</td>\n",
       "      <td>0.00</td>\n",
       "      <td>7.537105</td>\n",
       "      <td>5.942761</td>\n",
       "      <td>-10.746822</td>\n",
       "      <td>1.280838</td>\n",
       "      <td>18.712973</td>\n",
       "      <td>-15.853969</td>\n",
       "      <td>-1.455398</td>\n",
       "      <td>-1.289889</td>\n",
       "      <td>432.31</td>\n",
       "      <td>-6.570015</td>\n",
       "      <td>-5.308026</td>\n",
       "      <td>-5.462467</td>\n",
       "      <td>0</td>\n",
       "      <td>1</td>\n",
       "      <td>0</td>\n",
       "      <td>0</td>\n",
       "      <td>0</td>\n",
       "      <td>0</td>\n",
       "      <td>1</td>\n",
       "      <td>0</td>\n",
       "    </tr>\n",
       "    <tr>\n",
       "      <th>2</th>\n",
       "      <td>1.003389</td>\n",
       "      <td>-0.012547</td>\n",
       "      <td>3.368675</td>\n",
       "      <td>6.192718</td>\n",
       "      <td>15.175681</td>\n",
       "      <td>-0.01</td>\n",
       "      <td>-10.213318</td>\n",
       "      <td>9.272947</td>\n",
       "      <td>-15.868465</td>\n",
       "      <td>2.002275</td>\n",
       "      <td>19.006559</td>\n",
       "      <td>-35.200541</td>\n",
       "      <td>-21.825129</td>\n",
       "      <td>16.668153</td>\n",
       "      <td>-119.17</td>\n",
       "      <td>-66.851394</td>\n",
       "      <td>-11.084558</td>\n",
       "      <td>-11.407072</td>\n",
       "      <td>0</td>\n",
       "      <td>1</td>\n",
       "      <td>0</td>\n",
       "      <td>0</td>\n",
       "      <td>0</td>\n",
       "      <td>0</td>\n",
       "      <td>0</td>\n",
       "      <td>1</td>\n",
       "    </tr>\n",
       "    <tr>\n",
       "      <th>3</th>\n",
       "      <td>-16.041769</td>\n",
       "      <td>-3.243507</td>\n",
       "      <td>-11.594427</td>\n",
       "      <td>0.609785</td>\n",
       "      <td>-16.460535</td>\n",
       "      <td>-0.00</td>\n",
       "      <td>14.740934</td>\n",
       "      <td>10.200809</td>\n",
       "      <td>15.628244</td>\n",
       "      <td>-6.891503</td>\n",
       "      <td>-20.615756</td>\n",
       "      <td>20.096343</td>\n",
       "      <td>11.691170</td>\n",
       "      <td>29.446823</td>\n",
       "      <td>-1309.54</td>\n",
       "      <td>0.442939</td>\n",
       "      <td>11.808383</td>\n",
       "      <td>12.151957</td>\n",
       "      <td>0</td>\n",
       "      <td>1</td>\n",
       "      <td>0</td>\n",
       "      <td>0</td>\n",
       "      <td>0</td>\n",
       "      <td>1</td>\n",
       "      <td>0</td>\n",
       "      <td>0</td>\n",
       "    </tr>\n",
       "    <tr>\n",
       "      <th>4</th>\n",
       "      <td>20.498575</td>\n",
       "      <td>10.766191</td>\n",
       "      <td>-5.723594</td>\n",
       "      <td>-3.482515</td>\n",
       "      <td>2.194909</td>\n",
       "      <td>-0.02</td>\n",
       "      <td>-21.545901</td>\n",
       "      <td>-31.082999</td>\n",
       "      <td>-13.312645</td>\n",
       "      <td>-3.401994</td>\n",
       "      <td>2.748982</td>\n",
       "      <td>-15.819318</td>\n",
       "      <td>-7.478481</td>\n",
       "      <td>-10.051513</td>\n",
       "      <td>-1103.32</td>\n",
       "      <td>61.136654</td>\n",
       "      <td>48.077895</td>\n",
       "      <td>49.476758</td>\n",
       "      <td>0</td>\n",
       "      <td>0</td>\n",
       "      <td>1</td>\n",
       "      <td>0</td>\n",
       "      <td>0</td>\n",
       "      <td>0</td>\n",
       "      <td>0</td>\n",
       "      <td>1</td>\n",
       "    </tr>\n",
       "    <tr>\n",
       "      <th>...</th>\n",
       "      <td>...</td>\n",
       "      <td>...</td>\n",
       "      <td>...</td>\n",
       "      <td>...</td>\n",
       "      <td>...</td>\n",
       "      <td>...</td>\n",
       "      <td>...</td>\n",
       "      <td>...</td>\n",
       "      <td>...</td>\n",
       "      <td>...</td>\n",
       "      <td>...</td>\n",
       "      <td>...</td>\n",
       "      <td>...</td>\n",
       "      <td>...</td>\n",
       "      <td>...</td>\n",
       "      <td>...</td>\n",
       "      <td>...</td>\n",
       "      <td>...</td>\n",
       "      <td>...</td>\n",
       "      <td>...</td>\n",
       "      <td>...</td>\n",
       "      <td>...</td>\n",
       "      <td>...</td>\n",
       "      <td>...</td>\n",
       "      <td>...</td>\n",
       "      <td>...</td>\n",
       "    </tr>\n",
       "    <tr>\n",
       "      <th>159995</th>\n",
       "      <td>-3.770242</td>\n",
       "      <td>2.560371</td>\n",
       "      <td>14.250854</td>\n",
       "      <td>1.970673</td>\n",
       "      <td>-7.071905</td>\n",
       "      <td>-0.01</td>\n",
       "      <td>-25.376775</td>\n",
       "      <td>-20.569176</td>\n",
       "      <td>-12.724050</td>\n",
       "      <td>8.470432</td>\n",
       "      <td>-8.857104</td>\n",
       "      <td>7.249665</td>\n",
       "      <td>9.945951</td>\n",
       "      <td>-26.463533</td>\n",
       "      <td>-14.70</td>\n",
       "      <td>20.411108</td>\n",
       "      <td>16.430708</td>\n",
       "      <td>16.908772</td>\n",
       "      <td>0</td>\n",
       "      <td>1</td>\n",
       "      <td>0</td>\n",
       "      <td>0</td>\n",
       "      <td>0</td>\n",
       "      <td>0</td>\n",
       "      <td>0</td>\n",
       "      <td>1</td>\n",
       "    </tr>\n",
       "    <tr>\n",
       "      <th>159996</th>\n",
       "      <td>14.763802</td>\n",
       "      <td>-5.862644</td>\n",
       "      <td>12.140810</td>\n",
       "      <td>-1.977398</td>\n",
       "      <td>15.003196</td>\n",
       "      <td>-0.01</td>\n",
       "      <td>-34.546892</td>\n",
       "      <td>-8.983956</td>\n",
       "      <td>-33.243185</td>\n",
       "      <td>7.216263</td>\n",
       "      <td>18.790533</td>\n",
       "      <td>-13.510898</td>\n",
       "      <td>-4.157506</td>\n",
       "      <td>-31.160450</td>\n",
       "      <td>189.99</td>\n",
       "      <td>15.336827</td>\n",
       "      <td>3.878366</td>\n",
       "      <td>3.991210</td>\n",
       "      <td>0</td>\n",
       "      <td>1</td>\n",
       "      <td>0</td>\n",
       "      <td>0</td>\n",
       "      <td>0</td>\n",
       "      <td>0</td>\n",
       "      <td>1</td>\n",
       "      <td>0</td>\n",
       "    </tr>\n",
       "    <tr>\n",
       "      <th>159997</th>\n",
       "      <td>10.340259</td>\n",
       "      <td>-14.437023</td>\n",
       "      <td>24.244755</td>\n",
       "      <td>-2.605046</td>\n",
       "      <td>-4.069248</td>\n",
       "      <td>0.01</td>\n",
       "      <td>-31.360979</td>\n",
       "      <td>-7.317295</td>\n",
       "      <td>-1.565264</td>\n",
       "      <td>14.410613</td>\n",
       "      <td>-5.096470</td>\n",
       "      <td>21.141263</td>\n",
       "      <td>17.639304</td>\n",
       "      <td>-37.693666</td>\n",
       "      <td>-30.25</td>\n",
       "      <td>38.774228</td>\n",
       "      <td>7.778781</td>\n",
       "      <td>8.005110</td>\n",
       "      <td>1</td>\n",
       "      <td>0</td>\n",
       "      <td>0</td>\n",
       "      <td>0</td>\n",
       "      <td>0</td>\n",
       "      <td>1</td>\n",
       "      <td>0</td>\n",
       "      <td>0</td>\n",
       "    </tr>\n",
       "    <tr>\n",
       "      <th>159998</th>\n",
       "      <td>25.637915</td>\n",
       "      <td>-3.950091</td>\n",
       "      <td>18.396885</td>\n",
       "      <td>-2.142439</td>\n",
       "      <td>-10.373124</td>\n",
       "      <td>-0.01</td>\n",
       "      <td>-0.694942</td>\n",
       "      <td>-4.797542</td>\n",
       "      <td>-26.498269</td>\n",
       "      <td>10.934752</td>\n",
       "      <td>-12.991667</td>\n",
       "      <td>0.847160</td>\n",
       "      <td>-3.643524</td>\n",
       "      <td>-50.919438</td>\n",
       "      <td>670.05</td>\n",
       "      <td>55.672349</td>\n",
       "      <td>2.395371</td>\n",
       "      <td>2.465066</td>\n",
       "      <td>0</td>\n",
       "      <td>1</td>\n",
       "      <td>0</td>\n",
       "      <td>0</td>\n",
       "      <td>0</td>\n",
       "      <td>0</td>\n",
       "      <td>1</td>\n",
       "      <td>0</td>\n",
       "    </tr>\n",
       "    <tr>\n",
       "      <th>159999</th>\n",
       "      <td>17.436654</td>\n",
       "      <td>4.052396</td>\n",
       "      <td>-19.217357</td>\n",
       "      <td>2.084160</td>\n",
       "      <td>-6.974970</td>\n",
       "      <td>-0.00</td>\n",
       "      <td>26.659398</td>\n",
       "      <td>11.206522</td>\n",
       "      <td>37.448564</td>\n",
       "      <td>-11.422425</td>\n",
       "      <td>-8.735699</td>\n",
       "      <td>-6.338156</td>\n",
       "      <td>2.500901</td>\n",
       "      <td>66.843451</td>\n",
       "      <td>358.66</td>\n",
       "      <td>1.568683</td>\n",
       "      <td>23.317189</td>\n",
       "      <td>23.995620</td>\n",
       "      <td>0</td>\n",
       "      <td>0</td>\n",
       "      <td>1</td>\n",
       "      <td>0</td>\n",
       "      <td>0</td>\n",
       "      <td>1</td>\n",
       "      <td>0</td>\n",
       "      <td>0</td>\n",
       "    </tr>\n",
       "  </tbody>\n",
       "</table>"
      ],
      "text/plain": [
       "<IPython.core.display.HTML object>"
      ]
     },
     "metadata": {},
     "output_type": "display_data"
    }
   ],
   "source": [
    "printall(train_df)"
   ]
  },
  {
   "cell_type": "code",
   "execution_count": 88,
   "metadata": {},
   "outputs": [
    {
     "data": {
      "text/html": [
       "<table border=\"1\" class=\"dataframe\">\n",
       "  <thead>\n",
       "    <tr style=\"text-align: right;\">\n",
       "      <th></th>\n",
       "      <th>x0</th>\n",
       "      <th>x1</th>\n",
       "      <th>x3</th>\n",
       "      <th>x5</th>\n",
       "      <th>x8</th>\n",
       "      <th>x9</th>\n",
       "      <th>x13</th>\n",
       "      <th>x14</th>\n",
       "      <th>x24</th>\n",
       "      <th>x26</th>\n",
       "      <th>x31</th>\n",
       "      <th>x33</th>\n",
       "      <th>x34</th>\n",
       "      <th>x37</th>\n",
       "      <th>x44</th>\n",
       "      <th>x45</th>\n",
       "      <th>x46</th>\n",
       "      <th>x47</th>\n",
       "      <th>america</th>\n",
       "      <th>asia</th>\n",
       "      <th>euorpe</th>\n",
       "      <th>friday</th>\n",
       "      <th>monday</th>\n",
       "      <th>thurday</th>\n",
       "      <th>tuesday</th>\n",
       "      <th>wednesday</th>\n",
       "    </tr>\n",
       "  </thead>\n",
       "  <tbody>\n",
       "    <tr>\n",
       "      <th>0</th>\n",
       "      <td>13.864410</td>\n",
       "      <td>0.986217</td>\n",
       "      <td>12.129012</td>\n",
       "      <td>0.257978</td>\n",
       "      <td>-0.913796</td>\n",
       "      <td>0.00</td>\n",
       "      <td>-9.130198</td>\n",
       "      <td>-4.578509</td>\n",
       "      <td>-7.612868</td>\n",
       "      <td>7.209250</td>\n",
       "      <td>-1.144471</td>\n",
       "      <td>-5.203326</td>\n",
       "      <td>2.729897</td>\n",
       "      <td>-13.927587</td>\n",
       "      <td>376.12</td>\n",
       "      <td>21.431275</td>\n",
       "      <td>10.409146</td>\n",
       "      <td>10.712008</td>\n",
       "      <td>0</td>\n",
       "      <td>1</td>\n",
       "      <td>0</td>\n",
       "      <td>0</td>\n",
       "      <td>0</td>\n",
       "      <td>0</td>\n",
       "      <td>0</td>\n",
       "      <td>1</td>\n",
       "    </tr>\n",
       "    <tr>\n",
       "      <th>1</th>\n",
       "      <td>17.075344</td>\n",
       "      <td>-8.614119</td>\n",
       "      <td>3.645163</td>\n",
       "      <td>-1.134351</td>\n",
       "      <td>-21.323635</td>\n",
       "      <td>-0.01</td>\n",
       "      <td>-82.372525</td>\n",
       "      <td>-19.870239</td>\n",
       "      <td>-30.719266</td>\n",
       "      <td>2.166615</td>\n",
       "      <td>-26.706473</td>\n",
       "      <td>20.459172</td>\n",
       "      <td>-19.764989</td>\n",
       "      <td>-49.751647</td>\n",
       "      <td>1058.58</td>\n",
       "      <td>31.912299</td>\n",
       "      <td>23.853665</td>\n",
       "      <td>24.547705</td>\n",
       "      <td>1</td>\n",
       "      <td>0</td>\n",
       "      <td>0</td>\n",
       "      <td>0</td>\n",
       "      <td>0</td>\n",
       "      <td>0</td>\n",
       "      <td>0</td>\n",
       "      <td>1</td>\n",
       "    </tr>\n",
       "    <tr>\n",
       "      <th>2</th>\n",
       "      <td>-16.080927</td>\n",
       "      <td>1.490433</td>\n",
       "      <td>12.770805</td>\n",
       "      <td>-0.143236</td>\n",
       "      <td>-22.508253</td>\n",
       "      <td>0.00</td>\n",
       "      <td>-21.828601</td>\n",
       "      <td>-16.018098</td>\n",
       "      <td>-31.103796</td>\n",
       "      <td>7.590720</td>\n",
       "      <td>-28.190132</td>\n",
       "      <td>15.915722</td>\n",
       "      <td>-9.026852</td>\n",
       "      <td>-59.082917</td>\n",
       "      <td>388.08</td>\n",
       "      <td>24.751632</td>\n",
       "      <td>9.235573</td>\n",
       "      <td>9.504289</td>\n",
       "      <td>0</td>\n",
       "      <td>1</td>\n",
       "      <td>0</td>\n",
       "      <td>0</td>\n",
       "      <td>0</td>\n",
       "      <td>0</td>\n",
       "      <td>1</td>\n",
       "      <td>0</td>\n",
       "    </tr>\n",
       "    <tr>\n",
       "      <th>3</th>\n",
       "      <td>8.955804</td>\n",
       "      <td>-2.612907</td>\n",
       "      <td>9.704034</td>\n",
       "      <td>-4.001874</td>\n",
       "      <td>0.900835</td>\n",
       "      <td>-0.01</td>\n",
       "      <td>-40.851392</td>\n",
       "      <td>-14.029412</td>\n",
       "      <td>-19.147857</td>\n",
       "      <td>5.767890</td>\n",
       "      <td>1.128238</td>\n",
       "      <td>14.992986</td>\n",
       "      <td>-9.377136</td>\n",
       "      <td>-61.945695</td>\n",
       "      <td>272.45</td>\n",
       "      <td>19.673348</td>\n",
       "      <td>-20.449157</td>\n",
       "      <td>-21.044141</td>\n",
       "      <td>1</td>\n",
       "      <td>0</td>\n",
       "      <td>0</td>\n",
       "      <td>0</td>\n",
       "      <td>0</td>\n",
       "      <td>0</td>\n",
       "      <td>1</td>\n",
       "      <td>0</td>\n",
       "    </tr>\n",
       "    <tr>\n",
       "      <th>4</th>\n",
       "      <td>-1.243500</td>\n",
       "      <td>9.752493</td>\n",
       "      <td>1.224566</td>\n",
       "      <td>0.390264</td>\n",
       "      <td>-10.091425</td>\n",
       "      <td>-0.01</td>\n",
       "      <td>-5.616595</td>\n",
       "      <td>10.993535</td>\n",
       "      <td>21.849473</td>\n",
       "      <td>0.727858</td>\n",
       "      <td>-12.638857</td>\n",
       "      <td>10.183689</td>\n",
       "      <td>4.579249</td>\n",
       "      <td>13.387445</td>\n",
       "      <td>-127.28</td>\n",
       "      <td>-5.184808</td>\n",
       "      <td>4.179362</td>\n",
       "      <td>4.300964</td>\n",
       "      <td>0</td>\n",
       "      <td>1</td>\n",
       "      <td>0</td>\n",
       "      <td>0</td>\n",
       "      <td>0</td>\n",
       "      <td>1</td>\n",
       "      <td>0</td>\n",
       "      <td>0</td>\n",
       "    </tr>\n",
       "    <tr>\n",
       "      <th>...</th>\n",
       "      <td>...</td>\n",
       "      <td>...</td>\n",
       "      <td>...</td>\n",
       "      <td>...</td>\n",
       "      <td>...</td>\n",
       "      <td>...</td>\n",
       "      <td>...</td>\n",
       "      <td>...</td>\n",
       "      <td>...</td>\n",
       "      <td>...</td>\n",
       "      <td>...</td>\n",
       "      <td>...</td>\n",
       "      <td>...</td>\n",
       "      <td>...</td>\n",
       "      <td>...</td>\n",
       "      <td>...</td>\n",
       "      <td>...</td>\n",
       "      <td>...</td>\n",
       "      <td>...</td>\n",
       "      <td>...</td>\n",
       "      <td>...</td>\n",
       "      <td>...</td>\n",
       "      <td>...</td>\n",
       "      <td>...</td>\n",
       "      <td>...</td>\n",
       "      <td>...</td>\n",
       "    </tr>\n",
       "    <tr>\n",
       "      <th>39995</th>\n",
       "      <td>0.608853</td>\n",
       "      <td>-0.213463</td>\n",
       "      <td>10.957032</td>\n",
       "      <td>-0.238700</td>\n",
       "      <td>-2.747632</td>\n",
       "      <td>-0.01</td>\n",
       "      <td>-1.825368</td>\n",
       "      <td>8.464736</td>\n",
       "      <td>-6.657321</td>\n",
       "      <td>6.512648</td>\n",
       "      <td>-3.441232</td>\n",
       "      <td>-2.555568</td>\n",
       "      <td>2.177949</td>\n",
       "      <td>-7.251095</td>\n",
       "      <td>1856.05</td>\n",
       "      <td>5.799848</td>\n",
       "      <td>6.348686</td>\n",
       "      <td>6.533406</td>\n",
       "      <td>0</td>\n",
       "      <td>1</td>\n",
       "      <td>0</td>\n",
       "      <td>0</td>\n",
       "      <td>0</td>\n",
       "      <td>0</td>\n",
       "      <td>0</td>\n",
       "      <td>1</td>\n",
       "    </tr>\n",
       "    <tr>\n",
       "      <th>39996</th>\n",
       "      <td>-15.654468</td>\n",
       "      <td>13.673730</td>\n",
       "      <td>-4.126615</td>\n",
       "      <td>3.049759</td>\n",
       "      <td>3.010333</td>\n",
       "      <td>0.01</td>\n",
       "      <td>-17.834623</td>\n",
       "      <td>2.206712</td>\n",
       "      <td>6.229476</td>\n",
       "      <td>-2.452780</td>\n",
       "      <td>3.770248</td>\n",
       "      <td>-7.909124</td>\n",
       "      <td>-4.594561</td>\n",
       "      <td>20.857159</td>\n",
       "      <td>829.09</td>\n",
       "      <td>-41.281520</td>\n",
       "      <td>4.239135</td>\n",
       "      <td>4.362476</td>\n",
       "      <td>0</td>\n",
       "      <td>1</td>\n",
       "      <td>0</td>\n",
       "      <td>0</td>\n",
       "      <td>0</td>\n",
       "      <td>1</td>\n",
       "      <td>0</td>\n",
       "      <td>0</td>\n",
       "    </tr>\n",
       "    <tr>\n",
       "      <th>39997</th>\n",
       "      <td>17.104347</td>\n",
       "      <td>10.881559</td>\n",
       "      <td>9.473590</td>\n",
       "      <td>-0.186695</td>\n",
       "      <td>1.253264</td>\n",
       "      <td>-0.01</td>\n",
       "      <td>6.451952</td>\n",
       "      <td>-14.481932</td>\n",
       "      <td>3.398249</td>\n",
       "      <td>5.630919</td>\n",
       "      <td>1.569632</td>\n",
       "      <td>-10.484415</td>\n",
       "      <td>-1.300305</td>\n",
       "      <td>-18.012855</td>\n",
       "      <td>362.35</td>\n",
       "      <td>28.513354</td>\n",
       "      <td>5.903222</td>\n",
       "      <td>6.074980</td>\n",
       "      <td>0</td>\n",
       "      <td>1</td>\n",
       "      <td>0</td>\n",
       "      <td>0</td>\n",
       "      <td>0</td>\n",
       "      <td>0</td>\n",
       "      <td>0</td>\n",
       "      <td>1</td>\n",
       "    </tr>\n",
       "    <tr>\n",
       "      <th>39998</th>\n",
       "      <td>10.318173</td>\n",
       "      <td>-8.793841</td>\n",
       "      <td>4.655068</td>\n",
       "      <td>0.466101</td>\n",
       "      <td>-4.106609</td>\n",
       "      <td>0.00</td>\n",
       "      <td>41.568191</td>\n",
       "      <td>-7.947575</td>\n",
       "      <td>7.019153</td>\n",
       "      <td>2.766882</td>\n",
       "      <td>-5.143262</td>\n",
       "      <td>6.942449</td>\n",
       "      <td>15.399632</td>\n",
       "      <td>-6.659508</td>\n",
       "      <td>1157.95</td>\n",
       "      <td>34.455051</td>\n",
       "      <td>-7.569731</td>\n",
       "      <td>-7.789978</td>\n",
       "      <td>0</td>\n",
       "      <td>1</td>\n",
       "      <td>0</td>\n",
       "      <td>0</td>\n",
       "      <td>0</td>\n",
       "      <td>0</td>\n",
       "      <td>0</td>\n",
       "      <td>1</td>\n",
       "    </tr>\n",
       "    <tr>\n",
       "      <th>39999</th>\n",
       "      <td>-3.755809</td>\n",
       "      <td>6.229565</td>\n",
       "      <td>-19.987559</td>\n",
       "      <td>-2.911045</td>\n",
       "      <td>9.371211</td>\n",
       "      <td>-0.00</td>\n",
       "      <td>-16.281671</td>\n",
       "      <td>-23.917425</td>\n",
       "      <td>-46.312562</td>\n",
       "      <td>-11.880218</td>\n",
       "      <td>11.736836</td>\n",
       "      <td>-43.722423</td>\n",
       "      <td>-36.239352</td>\n",
       "      <td>3.317448</td>\n",
       "      <td>-345.83</td>\n",
       "      <td>20.461689</td>\n",
       "      <td>59.354827</td>\n",
       "      <td>61.081800</td>\n",
       "      <td>0</td>\n",
       "      <td>0</td>\n",
       "      <td>1</td>\n",
       "      <td>0</td>\n",
       "      <td>0</td>\n",
       "      <td>0</td>\n",
       "      <td>0</td>\n",
       "      <td>1</td>\n",
       "    </tr>\n",
       "  </tbody>\n",
       "</table>"
      ],
      "text/plain": [
       "<IPython.core.display.HTML object>"
      ]
     },
     "metadata": {},
     "output_type": "display_data"
    }
   ],
   "source": [
    "printall(test_df)"
   ]
  },
  {
   "cell_type": "code",
   "execution_count": 89,
   "metadata": {},
   "outputs": [
    {
     "data": {
      "text/plain": [
       "(40000, 26)"
      ]
     },
     "execution_count": 89,
     "metadata": {},
     "output_type": "execute_result"
    }
   ],
   "source": [
    "# Ensuring oservations and features are matching in both dataframes\n",
    "train_df.shape\n",
    "test_df.shape"
   ]
  },
  {
   "cell_type": "code",
   "execution_count": 90,
   "metadata": {},
   "outputs": [
    {
     "name": "stdout",
     "output_type": "stream",
     "text": [
      "<class 'pandas.core.frame.DataFrame'>\n",
      "RangeIndex: 160000 entries, 0 to 159999\n",
      "Data columns (total 26 columns):\n",
      "x0           160000 non-null float64\n",
      "x1           160000 non-null float64\n",
      "x3           160000 non-null float64\n",
      "x5           160000 non-null float64\n",
      "x8           160000 non-null float64\n",
      "x9           160000 non-null float64\n",
      "x13          160000 non-null float64\n",
      "x14          160000 non-null float64\n",
      "x24          160000 non-null float64\n",
      "x26          160000 non-null float64\n",
      "x31          160000 non-null float64\n",
      "x33          160000 non-null float64\n",
      "x34          160000 non-null float64\n",
      "x37          160000 non-null float64\n",
      "x44          160000 non-null float64\n",
      "x45          160000 non-null float64\n",
      "x46          160000 non-null float64\n",
      "x47          160000 non-null float64\n",
      "america      160000 non-null uint8\n",
      "asia         160000 non-null uint8\n",
      "euorpe       160000 non-null uint8\n",
      "friday       160000 non-null uint8\n",
      "monday       160000 non-null uint8\n",
      "thurday      160000 non-null uint8\n",
      "tuesday      160000 non-null uint8\n",
      "wednesday    160000 non-null uint8\n",
      "dtypes: float64(18), uint8(8)\n",
      "memory usage: 23.2 MB\n",
      "<class 'pandas.core.frame.DataFrame'>\n",
      "RangeIndex: 40000 entries, 0 to 39999\n",
      "Data columns (total 26 columns):\n",
      "x0           40000 non-null float64\n",
      "x1           40000 non-null float64\n",
      "x3           40000 non-null float64\n",
      "x5           40000 non-null float64\n",
      "x8           40000 non-null float64\n",
      "x9           40000 non-null float64\n",
      "x13          40000 non-null float64\n",
      "x14          40000 non-null float64\n",
      "x24          40000 non-null float64\n",
      "x26          40000 non-null float64\n",
      "x31          40000 non-null float64\n",
      "x33          40000 non-null float64\n",
      "x34          40000 non-null float64\n",
      "x37          40000 non-null float64\n",
      "x44          40000 non-null float64\n",
      "x45          40000 non-null float64\n",
      "x46          40000 non-null float64\n",
      "x47          40000 non-null float64\n",
      "america      40000 non-null uint8\n",
      "asia         40000 non-null uint8\n",
      "euorpe       40000 non-null uint8\n",
      "friday       40000 non-null uint8\n",
      "monday       40000 non-null uint8\n",
      "thurday      40000 non-null uint8\n",
      "tuesday      40000 non-null uint8\n",
      "wednesday    40000 non-null uint8\n",
      "dtypes: float64(18), uint8(8)\n",
      "memory usage: 5.8 MB\n"
     ]
    }
   ],
   "source": [
    "# Ensuring the datatypes are matching in both dataframes\n",
    "train_df.info()\n",
    "test_df.info()"
   ]
  },
  {
   "cell_type": "markdown",
   "metadata": {},
   "source": [
    "## Creating the Model using default values"
   ]
  },
  {
   "cell_type": "markdown",
   "metadata": {
    "collapsed": true
   },
   "source": [
    "- Generating basic predictions from different algorithms using default values \n",
    "- Random Forest algorithm seems to give better results for this dataset. Hence, we will use the same for the final model\n",
    "- Feature importance plot was generated at the start to understand the importance of all features. We could actually remove some of the features which might not add  value to the model. Hence removing them to improve the prediction probability"
   ]
  },
  {
   "cell_type": "code",
   "execution_count": 92,
   "metadata": {
    "collapsed": true
   },
   "outputs": [],
   "source": [
    "# Creating train/test split with 80:20 ratio\n",
    "from sklearn.cross_validation import train_test_split\n",
    "X_train, X_test, y_train, y_test = train_test_split(train_df, y, test_size=0.2, random_state=42)"
   ]
  },
  {
   "cell_type": "code",
   "execution_count": 93,
   "metadata": {},
   "outputs": [
    {
     "name": "stdout",
     "output_type": "stream",
     "text": [
      "R^2:  0.0958\n"
     ]
    }
   ],
   "source": [
    "from sklearn.linear_model import LinearRegression\n",
    "model1 = LinearRegression()\n",
    "model1.fit(X_train, y_train)\n",
    "print(\"R^2: \", model1.score(X_test, y_test).round(4))"
   ]
  },
  {
   "cell_type": "code",
   "execution_count": 94,
   "metadata": {},
   "outputs": [
    {
     "name": "stdout",
     "output_type": "stream",
     "text": [
      "R^2:  0.337\n"
     ]
    }
   ],
   "source": [
    "from sklearn.tree import DecisionTreeRegressor\n",
    "model2 = DecisionTreeRegressor()\n",
    "model2.fit(X_train, y_train)\n",
    "print(\"R^2: \", model2.score(X_test, y_test).round(4))"
   ]
  },
  {
   "cell_type": "code",
   "execution_count": 95,
   "metadata": {},
   "outputs": [
    {
     "name": "stdout",
     "output_type": "stream",
     "text": [
      "R^2:  0.899\n"
     ]
    }
   ],
   "source": [
    "from sklearn.ensemble import RandomForestClassifier\n",
    "model3 = RandomForestClassifier()\n",
    "model3.fit(X_train, y_train)\n",
    "print(\"R^2: \", model3.score(X_test, y_test).round(4))"
   ]
  },
  {
   "cell_type": "code",
   "execution_count": 96,
   "metadata": {},
   "outputs": [
    {
     "name": "stdout",
     "output_type": "stream",
     "text": [
      "R^2:  0.6678\n"
     ]
    }
   ],
   "source": [
    "from sklearn.linear_model import LogisticRegression\n",
    "model4 = LogisticRegression()\n",
    "model4.fit(X_train, y_train)\n",
    "print(\"R^2: \", model4.score(X_test, y_test).round(4))"
   ]
  },
  {
   "cell_type": "code",
   "execution_count": 237,
   "metadata": {},
   "outputs": [
    {
     "data": {
      "text/plain": [
       "array([ 0.0720087 ,  0.09797662,  0.00683588,  0.02552805,  0.00686854,\n",
       "        0.08080334,  0.00695795,  0.00686901,  0.02348232,  0.00224282,\n",
       "        0.00722991,  0.00700007,  0.00666505,  0.05624872,  0.06564571,\n",
       "        0.00682763,  0.0069192 ,  0.0069912 ,  0.00679703,  0.00715066,\n",
       "        0.0069062 ,  0.00697503,  0.04378154,  0.00696496,  0.03563541,\n",
       "        0.00688227,  0.00683923,  0.00702738,  0.00698753,  0.02370247,\n",
       "        0.00692947,  0.06682163,  0.07124613,  0.00692391,  0.00688343,\n",
       "        0.03552515,  0.00713086,  0.00697192,  0.00707188,  0.00689689,\n",
       "        0.00701407,  0.00703101,  0.02871451,  0.0271387 ,  0.03498899,\n",
       "        0.00699633,  0.00696466])"
      ]
     },
     "execution_count": 237,
     "metadata": {},
     "output_type": "execute_result"
    }
   ],
   "source": [
    "model.feature_importances_"
   ]
  },
  {
   "cell_type": "code",
   "execution_count": 251,
   "metadata": {},
   "outputs": [
    {
     "data": {
      "text/plain": [
       "<matplotlib.axes._subplots.AxesSubplot at 0x115653f28>"
      ]
     },
     "execution_count": 251,
     "metadata": {},
     "output_type": "execute_result"
    },
    {
     "data": {
      "image/png": "[encoded data removed]",
      "text/plain": [
       "<matplotlib.figure.Figure at 0x116d3df98>"
      ]
     },
     "metadata": {},
     "output_type": "display_data"
    }
   ],
   "source": [
    "# Previous visualization (generated with all the features) to understand the importance of the feature in the model\n",
    "featureimportance = pd.Series(model.feature_importances_, index=test_df[numeric_variables].columns)\n",
    "featureimportance.sort_values(inplace=True)\n",
    "featureimportance.plot(kind='barh', figsize=(6,12))"
   ]
  },
  {
   "cell_type": "markdown",
   "metadata": {
    "collapsed": true
   },
   "source": [
    "## Cross Validation"
   ]
  },
  {
   "cell_type": "markdown",
   "metadata": {},
   "source": [
    "- Performing GridSearches to identify the best hyperparameters for RF Classifier\n",
    "- Plotting ROC curve to understand the AUC value\n",
    "- Cross Validating with K-folds using the identified best parameters"
   ]
  },
  {
   "cell_type": "code",
   "execution_count": null,
   "metadata": {
    "collapsed": true
   },
   "outputs": [],
   "source": [
    "# Performing GridSearch to identify best features for the RFC\n",
    "# n_estimators = [500,1000,2000]\n",
    "# max_features = ['auto', 'sqrt', 'log2']\n",
    "# min_samples_split = [2,3,4,5,7]\n",
    "\n",
    "# rfc = RandomForestClassifier(n_jobs=1, oob_score=True)\n",
    "# estimator = GridSearchCV(rfc, dict(n_estimators=n_estimators, \n",
    "#                                   max_features=max_features, \n",
    "#                                   min_samples_split=min_samples_split), cv=None, n_jobs=-1)"
   ]
  },
  {
   "cell_type": "code",
   "execution_count": 22,
   "metadata": {
    "collapsed": true
   },
   "outputs": [],
   "source": [
    "# Performing RanmomizedSearch to tune the hyperparameters for the RF Classifier\n",
    "hyperparameters = {'max_depth': [None, 10, 5], \n",
    "                   'max_features': ['auto', 'sqrt', 'log2'],\n",
    "                   'min_samples_split': [2, 3, 5], \n",
    "                   'criterion': ['entropy', 'gini']\n",
    "                  }\n",
    "rfc = RandomForestClassifier(n_jobs=2, random_state=42, n_estimators=500)\n",
    "\n",
    "search =  RandomizedSearchCV(rfc, hyperparameters, cv=5, scoring='roc_auc')"
   ]
  },
  {
   "cell_type": "code",
   "execution_count": 23,
   "metadata": {},
   "outputs": [
    {
     "data": {
      "text/plain": [
       "RandomizedSearchCV(cv=5, error_score='raise',\n",
       "          estimator=RandomForestClassifier(bootstrap=True, class_weight=None, criterion='gini',\n",
       "            max_depth=None, max_features='auto', max_leaf_nodes=None,\n",
       "            min_impurity_split=1e-07, min_samples_leaf=1,\n",
       "            min_samples_split=2, min_weight_fraction_leaf=0.0,\n",
       "            n_estimators=500, n_jobs=2, oob_score=False, random_state=42,\n",
       "            verbose=0, warm_start=False),\n",
       "          fit_params={}, iid=True, n_iter=10, n_jobs=1,\n",
       "          param_distributions={'max_depth': [None, 10, 5], 'max_features': ['auto', 'sqrt', 'log2'], 'min_samples_split': [2, 3, 5], 'criterion': ['entropy', 'gini']},\n",
       "          pre_dispatch='2*n_jobs', random_state=None, refit=True,\n",
       "          scoring='roc_auc', verbose=0)"
      ]
     },
     "execution_count": 23,
     "metadata": {},
     "output_type": "execute_result"
    }
   ],
   "source": [
    "# Training the model\n",
    "search.fit(X_train, y_train)\n",
    "\n",
    "# Send SMS to remind me as soon as the model has been totally trained using Twilio client\n",
    "account_sid = \"AC0f7713e87ea0d942a5032f32cb5a7aab\" # Your Account SID from www.twilio.com/console\n",
    "auth_token  = \"8e274f2b1cbf94d1ca7e43863c718104\"  # Your Auth Token from www.twilio.com/console\n",
    "\n",
    "client = TwilioRestClient(account_sid, auth_token)\n",
    "\n",
    "message = client.messages.create(body=\"tada...your Model's generated\",\n",
    "    to=\"+16263408121\",    # Replace with your phone number\n",
    "    from_=\"+12135684196\") # Replace with your Twilio number\n",
    "\n",
    "print(message.sid)"
   ]
  },
  {
   "cell_type": "code",
   "execution_count": 24,
   "metadata": {},
   "outputs": [
    {
     "data": {
      "text/plain": [
       "RandomForestClassifier(bootstrap=True, class_weight=None, criterion='entropy',\n",
       "            max_depth=None, max_features='auto', max_leaf_nodes=None,\n",
       "            min_impurity_split=1e-07, min_samples_leaf=1,\n",
       "            min_samples_split=2, min_weight_fraction_leaf=0.0,\n",
       "            n_estimators=500, n_jobs=2, oob_score=False, random_state=42,\n",
       "            verbose=0, warm_start=False)"
      ]
     },
     "execution_count": 24,
     "metadata": {},
     "output_type": "execute_result"
    }
   ],
   "source": [
    "# Best parameters to use to build the final model\n",
    "search.best_estimator_"
   ]
  },
  {
   "cell_type": "code",
   "execution_count": 31,
   "metadata": {
    "collapsed": true
   },
   "outputs": [],
   "source": [
    "best_rfc = search.best_estimator_"
   ]
  },
  {
   "cell_type": "code",
   "execution_count": 32,
   "metadata": {},
   "outputs": [
    {
     "name": "stdout",
     "output_type": "stream",
     "text": [
      "AUC Score:  0.974282753855\n"
     ]
    }
   ],
   "source": [
    "# Generating AUC score using the best model\n",
    "roc = roc_auc_score(y_test, best_rfc.predict_proba(X_test)[:,1])\n",
    "print(\"AUC Score: \", roc)"
   ]
  },
  {
   "cell_type": "code",
   "execution_count": 320,
   "metadata": {},
   "outputs": [
    {
     "data": {
      "image/png": "[encoded data removed]",
      "text/plain": [
       "<matplotlib.figure.Figure at 0x12edc4fd0>"
      ]
     },
     "metadata": {},
     "output_type": "display_data"
    }
   ],
   "source": [
    "# Visualizing -> Area Under the Curve (AUC) for the best model\n",
    "fpr, tpr, thresholds = roc_curve(y_test, best_rfc.predict_proba(X_test)[:,1])\n",
    "\n",
    "plt.figure()\n",
    "plt.plot(fpr, tpr, label='ROC curve(area = %0.2f)' %roc)\n",
    "plt.plot([0,1], [0,1], 'k--')\n",
    "plt.xlim([0.0, 1.0])\n",
    "plt.ylim([0.0, 1.05])\n",
    "plt.xlabel('False Positive Rate')\n",
    "plt.ylabel('True Postive Rate')\n",
    "plt.title('Receiver operating characteristic (ROC)')\n",
    "plt.legend(loc='lower right')\n",
    "plt.show()"
   ]
  },
  {
   "cell_type": "code",
   "execution_count": 33,
   "metadata": {},
   "outputs": [
    {
     "data": {
      "text/plain": [
       "array([ 0.92662959,  0.92287982,  0.9251875 ,  0.925     ,  0.9268125 ,\n",
       "        0.9263125 ,  0.923625  ,  0.92125   ,  0.92662041,  0.92068254])"
      ]
     },
     "execution_count": 33,
     "metadata": {},
     "output_type": "execute_result"
    }
   ],
   "source": [
    "# Cross validating with k-folds\n",
    "from sklearn import cross_validation\n",
    "scores = cross_validation.cross_val_score(best_rfc, train_df, y, cv=10)\n",
    "scores"
   ]
  },
  {
   "cell_type": "markdown",
   "metadata": {},
   "source": [
    "- True Negative Cost (TNC): We don't need to spend any amount on the True negative numbers as they are going to continue as our customers anyway.\n",
    "- True Positive Cost (TPC) : We need to spend some money for these people (like giving offers, free calls, etc.) just to stop them to leave the company.\n",
    "- False Positive Cost (FPC) : False Postive numbers are which we predicted as churn but actually they won't but as the model predicted True, assume we will spend some money on these people.\n",
    "- False Negative Cost (FNC) : False Negative numbers ae which we predicted as won't churn and they will churn. So in this we may lost in the life-time value of the customer."
   ]
  },
  {
   "cell_type": "markdown",
   "metadata": {},
   "source": [
    "## Final Model"
   ]
  },
  {
   "cell_type": "code",
   "execution_count": 98,
   "metadata": {},
   "outputs": [
    {
     "name": "stdout",
     "output_type": "stream",
     "text": [
      "AUC:  0.975599260082\n"
     ]
    }
   ],
   "source": [
    "# Building the final RF Classifier model with the best parameters\n",
    "\n",
    "rfc = RandomForestClassifier(criterion='entropy', \n",
    "                               n_estimators=2000,  \n",
    "                               n_jobs=2, \n",
    "                               random_state=42, \n",
    "                               max_features='sqrt', \n",
    "                               min_samples_split=2, \n",
    "                               min_samples_leaf=1)\n",
    "rfc.fit(X_train, y_train)\n",
    "roc = roc_auc_score(y_test, rfc.predict_proba(X_test)[:,1])\n",
    "print(\"AUC: \", roc)"
   ]
  },
  {
   "cell_type": "code",
   "execution_count": 99,
   "metadata": {},
   "outputs": [
    {
     "data": {
      "text/plain": [
       "<matplotlib.axes._subplots.AxesSubplot at 0x11bc36940>"
      ]
     },
     "execution_count": 99,
     "metadata": {},
     "output_type": "execute_result"
    },
    {
     "data": {
      "image/png": "[encoded data removed]",
      "text/plain": [
       "<matplotlib.figure.Figure at 0x11bb7a080>"
      ]
     },
     "metadata": {},
     "output_type": "display_data"
    }
   ],
   "source": [
    "featureimportance = pd.Series(rfc.feature_importances_, index=train_df.columns)\n",
    "featureimportance.sort_values(inplace=True)\n",
    "featureimportance.plot(kind='barh', figsize=(10,15))"
   ]
  },
  {
   "cell_type": "code",
   "execution_count": 102,
   "metadata": {
    "collapsed": true
   },
   "outputs": [],
   "source": [
    "# Making Predictions for the testing dataset\n",
    "predictions = rfc.predict_proba(X_test)[:,1]"
   ]
  },
  {
   "cell_type": "code",
   "execution_count": 103,
   "metadata": {
    "collapsed": true
   },
   "outputs": [],
   "source": [
    "# Exporting predicted probabilities to a submission file \n",
    "submission = pd.DataFrame({'y': predictions})\n",
    "submission.to_csv(\"midterm12.csv\", index=True)"
   ]
  },
  {
   "cell_type": "code",
   "execution_count": null,
   "metadata": {
    "collapsed": true
   },
   "outputs": [],
   "source": []
  }
 ],
 "metadata": {
  "kernelspec": {
   "display_name": "Python 3",
   "language": "python",
   "name": "python3"
  },
  "language_info": {
   "codemirror_mode": {
    "name": "ipython",
    "version": 3
   },
   "file_extension": ".py",
   "mimetype": "text/x-python",
   "name": "python",
   "nbconvert_exporter": "python",
   "pygments_lexer": "ipython3",
   "version": "3.6.1"
  }
 },
 "nbformat": 4,
 "nbformat_minor": 2
}
